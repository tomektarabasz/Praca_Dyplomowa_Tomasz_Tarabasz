{
  "nbformat": 4,
  "nbformat_minor": 0,
  "metadata": {
    "colab": {
      "name": "PD_tren_zmod_modeli.ipynb",
      "provenance": [],
      "collapsed_sections": []
    },
    "kernelspec": {
      "name": "python3",
      "display_name": "Python 3"
    }
  },
  "cells": [
    {
      "cell_type": "markdown",
      "metadata": {
        "id": "2APrRHXAtumo",
        "colab_type": "text"
      },
      "source": [
        "[![Open In Colab](https://colab.research.google.com/assets/colab-badge.svg)](https://colab.research.google.com/drive/1MjzUke5SDxffqmpruiUzfdBLR6gKbCBM)"
      ]
    },
    {
      "cell_type": "markdown",
      "metadata": {
        "colab_type": "text",
        "id": "7VcYmp9qcq4T"
      },
      "source": [
        "<br>\n",
        "\n",
        "< [8. Modyfikacje](PD_modyfikacje.ipynb) | [10. Metryki oceny modeli](PD_metryki_oceny_modeli.ipynb) >\n"
      ]
    },
    {
      "cell_type": "markdown",
      "metadata": {
        "colab_type": "text",
        "id": "nDkD-N_edXC5"
      },
      "source": [
        "<br>\n",
        "\n",
        "< [8. Modyfikacje](PD_modyfikacje.ipynb) | [10. Metryki oceny modeli](PD_metryki_oceny_modeli.ipynb) >\n"
      ]
    }
  ]
}