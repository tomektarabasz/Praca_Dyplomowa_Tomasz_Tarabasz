{
  "nbformat": 4,
  "nbformat_minor": 0,
  "metadata": {
    "colab": {
      "name": "PD_bibliografia.ipynb",
      "provenance": [],
      "collapsed_sections": []
    },
    "kernelspec": {
      "name": "python3",
      "display_name": "Python 3"
    }
  },
  "cells": [
    {
      "cell_type": "markdown",
      "metadata": {
        "id": "2APrRHXAtumo",
        "colab_type": "text"
      },
      "source": [
        "[![Open In Colab](https://colab.research.google.com/assets/colab-badge.svg)](https://colab.research.google.com/drive/1MjzUke5SDxffqmpruiUzfdBLR6gKbCBM)"
      ]
    },
    {
      "cell_type": "markdown",
      "metadata": {
        "colab_type": "text",
        "id": "7VcYmp9qcq4T"
      },
      "source": [
        "| [1. Spis treści](PD_spis_tresci.ipynb) |\n",
        "<br><br>\n",
        "\n",
        "< [11. Wnioski](PD_wnioski.ipynb) | [Spis treści](PD_spis_tresci.ipynb) >\n"
      ]
    },
    {
      "cell_type": "markdown",
      "metadata": {
        "id": "22CiFYcmIVC9",
        "colab_type": "text"
      },
      "source": [
        "## [12. Bibliografia]()\n",
        "- [[1] reid-strong-baseline -github](https://github.com/michuanhaohao/reid-strong-baseline)\n",
        "- [[2] Mingxing Tan, Quoc V. Le: “EfficientNet: Rethinking Model Scaling for Convolutional Neural Networks”, 2019, International Conference on Machine Learning, 2019; <a href='http://arxiv.org/abs/1905.11946'>arXiv:1905.11946</a>](https://arxiv.org/pdf/1905.11946.pdf)\n",
        "- [[3] Why Swish could perform better than ReLu](https://www.machinecurve.com/index.php/2019/05/30/why-swish-could-perform-better-than-relu/?fbclid=IwAR1muCJQpjU4M4dHcCx2wj3PAtYtL6rpEi5-aU9LSjrkrBONQXTqScR2AtU)\n",
        "- [[4] Torchreid: Library for Deep Learning Person Re_Identyfication in Pytoch](https://arxiv.org/pdf/1910.10093.pdf)\n",
        "- [[5] Torchreid: Library for Deep Learning Person Re_Identyfication in Pytoch - github project](https://github.com/KaiyangZhou/deep-person-reid/tree/master/projects)\n",
        "- [[6] Hao Luo, Youzhi Gu, Xingyu Liao, Shenqi Lai, Wei Jiang: “Bag of Tricks and A Strong Baseline for Deep Person Re-identification”, 2019](https://arxiv.org/pdf/1903.07071.pdf)\n",
        "- [[7] Market1501 - pdf](https://www.cv-foundation.org/openaccess/content_iccv_2015/papers/Zheng_Scalable_Person_Re-Identification_ICCV_2015_paper.pdf)\n",
        "- [[8] GPipe - pdf](https://arxiv.org/pdf/1811.06965.pdf)\n",
        "- [[9] Kaiming He, Xiangyu Zhang, Shaoqing Ren, Jian Sun: “Deep Residual Learning for Image Recognition”, 2015](https://arxiv.org/pdf/1512.03385.pdf)\n",
        "- [[10] Duke MTMC dataset](https://megapixels.cc/duke_mtmc/)\n",
        "- [[11] YOLO5](https://github.com/ultralytics/yolov5/)\n",
        "- [[12] EfficientNet github](https://github.com/lukemelas/EfficientNet-PyTorch?fbclid=IwAR28bdEvf05yCsMdE7ByUP5z-6EyRmadPp5EoyLd57nahLfsikDEuiIT7eU)\n",
        "- [[13] EfficientNet-b0 slower than Resnet-50? ](https://github.com/lukemelas/EfficientNet-PyTorch/issues/195)\n",
        "- [[14] The inference speed is much slower than original TensorFlow code](https://github.com/lukemelas/EfficientNet-PyTorch/issues/19)\n"
      ]
    },
    {
      "cell_type": "markdown",
      "metadata": {
        "id": "HwnCGjM3N6z5",
        "colab_type": "text"
      },
      "source": [
        "### Nawigacja"
      ]
    },
    {
      "cell_type": "markdown",
      "metadata": {
        "colab_type": "text",
        "id": "H4lnY_1Gfj-H"
      },
      "source": [
        "| [1. Spis treści](PD_spis_tresci.ipynb) |\n",
        "<br><br>\n",
        "\n",
        "< [11. Wnioski](PD_wnioski.ipynb) | [Spis treści](PD_spis_tresci.ipynb) >\n"
      ]
    }
  ]
}