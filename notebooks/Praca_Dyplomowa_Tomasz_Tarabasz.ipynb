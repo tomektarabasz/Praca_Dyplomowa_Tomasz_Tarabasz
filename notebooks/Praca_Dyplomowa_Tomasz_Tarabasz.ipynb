{
  "nbformat": 4,
  "nbformat_minor": 0,
  "metadata": {
    "colab": {
      "name": "Praca_Dyplomowa_Tomasz_Tarabasz.ipynb",
      "provenance": [],
      "collapsed_sections": []
    },
    "kernelspec": {
      "name": "python3",
      "display_name": "Python 3"
    }
  },
  "cells": [
    {
      "cell_type": "markdown",
      "metadata": {
        "id": "2APrRHXAtumo",
        "colab_type": "text"
      },
      "source": [
        "[![Open In Colab](https://colab.research.google.com/assets/colab-badge.svg)](https://colab.research.google.com/drive/1MjzUke5SDxffqmpruiUzfdBLR6gKbCBM)"
      ]
    },
    {
      "cell_type": "markdown",
      "metadata": {
        "id": "Qf-4ZEZBc141",
        "colab_type": "text"
      },
      "source": [
        "# [Analiza problemu reidentyfikacji obiektów z wykorzystaniem głębokich sieci neutronowych.](Praca_Dyplomowa_Tomasz_Tarabasz.ipynb)"
      ]
    },
    {
      "cell_type": "markdown",
      "metadata": {
        "id": "YQo84u2Gd5ZK",
        "colab_type": "text"
      },
      "source": [
        "## [1. Streszczenie](notebook/01_Streszczenie.*ipnb*)"
      ]
    },
    {
      "cell_type": "markdown",
      "metadata": {
        "id": "4sBEk_sYeSx4",
        "colab_type": "text"
      },
      "source": [
        "Praca zawiera opis oraz definicję problemu reidentyfikacji obrazów. W dokumwncie przedstawiono wykorzystanie dwóch powszechnie wykorzystywanych systemów do testowania własnych rozwiązań problemu reidentyfikacji jak i modyfikacji obecnie wiodących architektur. W pracy przedstawiono przykład zastosowania systemu z w połączeniu z systemem detekcji osób. cd ..."
      ]
    },
    {
      "cell_type": "markdown",
      "metadata": {
        "id": "mg_BWd6QfN7-",
        "colab_type": "text"
      },
      "source": [
        "## [2. Wstęp]()"
      ]
    },
    {
      "cell_type": "markdown",
      "metadata": {
        "id": "hbv-u4UbwPk6",
        "colab_type": "text"
      },
      "source": [
        "### 1. Motywacja "
      ]
    },
    {
      "cell_type": "markdown",
      "metadata": {
        "id": "CZ_RrIJWwfDh",
        "colab_type": "text"
      },
      "source": [
        "Problem rozpoznawania osób i obiektów na różnych ujeciach z wielu kamer stał się w ostatnim czasie jednym z najważniejszych zagadnień. Potwierdza to cytac z pracy [4] \"Driven by the growing demands for intelligent surveillance and forensic applications, person re-identification (re-ID) has become a topical\n",
        "research area in computer vision.\" w wolnym tłumaczeniu \"Rozwiązanie umożliwiające identyfikację osób z różnych kamer oraz ujęć stało się jednym z najczęściej badanych zagadnień. Stało się tak za sprawą rosnącego zainteresowania służ wykorzstaniem takie rozwiązania\". Na potwierdzenie tego wniosku przedstawiono wykres obrazujący ilość \n",
        "<br><br>\n",
        "<img src=\"https://raw.githubusercontent.com/DarekGit/FACES_DNN/master/Figures/Zrzut%20ekranu%202020-06-02.jpg\" alt=\"drawing\" width=\"400\"/>\n",
        "<br><br>"
      ]
    },
    {
      "cell_type": "markdown",
      "metadata": {
        "id": "zZhuT5xw1fVU",
        "colab_type": "text"
      },
      "source": [
        "### 2. Cel pracy"
      ]
    },
    {
      "cell_type": "markdown",
      "metadata": {
        "id": "8C3jIXQ_1lIm",
        "colab_type": "text"
      },
      "source": [
        "Cele pracy zawierają się w dwóch punkach:\n",
        "\n",
        "*   Modyfikacja istniejących rozwiązań z założeniem poprawy wyników.\n",
        "*   Wykorzystnie rozwiązani jako cześci systemu (link do opisu systemu)\n",
        "\n",
        "Założenia czynione w dalszej części pracy będą wynikały z powyższych punktów. \n",
        "\n"
      ]
    },
    {
      "cell_type": "markdown",
      "metadata": {
        "id": "pxMJLXm63FqE",
        "colab_type": "text"
      },
      "source": [
        "### 3 Wybór systemów do reidentyfikacji"
      ]
    },
    {
      "cell_type": "code",
      "metadata": {
        "id": "hYpnnqVi86eK",
        "colab_type": "code",
        "colab": {}
      },
      "source": [
        "Ze względu na popularność i kompletność rozwiązania, w pracy wykorzystano  "
      ],
      "execution_count": null,
      "outputs": []
    },
    {
      "cell_type": "markdown",
      "metadata": {
        "id": "8wJwM5UffVB_",
        "colab_type": "text"
      },
      "source": [
        "## [3. DataSets]()\n"
      ]
    },
    {
      "cell_type": "markdown",
      "metadata": {
        "id": "DJvqLrMrHxum",
        "colab_type": "text"
      },
      "source": [
        "## [4. Modele](notebooks/02_ReId_BasseLine.ipynb)\n",
        "- [ReId BaseLine](notebooks/02_ReId_BasseLine.ipynb)"
      ]
    },
    {
      "cell_type": "markdown",
      "metadata": {
        "id": "bwBwo6PtHUoz",
        "colab_type": "text"
      },
      "source": [
        "## [5. Modyfikacje]()\n",
        "- [Warstwa nieliniowa](notebooks/04_01_MTCNN.ipynb)"
      ]
    },
    {
      "cell_type": "markdown",
      "metadata": {
        "id": "22CiFYcmIVC9",
        "colab_type": "text"
      },
      "source": [
        "## 10. Bibliografia\n",
        "- [[1] reid-strong-baseline](https://github.com/michuanhaohao/reid-strong-baseline)\n",
        "- [ [2] EfficientNet-PyTorch](https://github.com/lukemelas/EfficientNet-PyTorch?fbclid=IwAR28bdEvf05yCsMdE7ByUP5z-6EyRmadPp5EoyLd57nahLfsikDEuiIT7eU)\n",
        "- [[3] Why Swish could perform better than ReLu](https://www.machinecurve.com/index.php/2019/05/30/why-swish-could-perform-better-than-relu/?fbclid=IwAR1muCJQpjU4M4dHcCx2wj3PAtYtL6rpEi5-aU9LSjrkrBONQXTqScR2AtU)\n",
        "- [[4] Torchreid: Library for Deep Learning Person Re_Identyfication in Pytoch](https://arxiv.org/pdf/1910.10093.pdf)"
      ]
    },
    {
      "cell_type": "code",
      "metadata": {
        "id": "d6JUfsF8H-so",
        "colab_type": "code",
        "colab": {}
      },
      "source": [
        ""
      ],
      "execution_count": null,
      "outputs": []
    }
  ]
}