{
  "nbformat": 4,
  "nbformat_minor": 0,
  "metadata": {
    "colab": {
      "name": "Praca_Dyplomowa_Tomasz_Tarabasz.ipynb",
      "provenance": [],
      "collapsed_sections": []
    },
    "kernelspec": {
      "name": "python3",
      "display_name": "Python 3"
    }
  },
  "cells": [
    {
      "cell_type": "markdown",
      "metadata": {
        "id": "Qf-4ZEZBc141",
        "colab_type": "text"
      },
      "source": [
        "# [Analiza problemu reidentyfikacji obiektów z wykorzystaniem głębokich sieci neutronowych.](Praca_Dyplomowa_Tomasz_Tarabasz.ipynb)"
      ]
    },
    {
      "cell_type": "markdown",
      "metadata": {
        "id": "Fwt5j2J7fTwV",
        "colab_type": "text"
      },
      "source": [
        ""
      ]
    },
    {
      "cell_type": "markdown",
      "metadata": {
        "id": "YQo84u2Gd5ZK",
        "colab_type": "text"
      },
      "source": [
        "## [1. Streszczenie](notebook/01_Streszczenie.*ipnb*)"
      ]
    },
    {
      "cell_type": "markdown",
      "metadata": {
        "id": "4sBEk_sYeSx4",
        "colab_type": "text"
      },
      "source": [
        "Jednym z ważnych i wyzwań stojących przed inteligentnymi systemami analizy obrazu jest cdn..."
      ]
    },
    {
      "cell_type": "markdown",
      "metadata": {
        "id": "mg_BWd6QfN7-",
        "colab_type": "text"
      },
      "source": [
        "## [2. Wstęp]()"
      ]
    },
    {
      "cell_type": "markdown",
      "metadata": {
        "id": "8wJwM5UffVB_",
        "colab_type": "text"
      },
      "source": [
        "## [3. DataSets]()\n"
      ]
    }
  ]
}