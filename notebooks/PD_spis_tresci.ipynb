{
  "nbformat": 4,
  "nbformat_minor": 0,
  "metadata": {
    "colab": {
      "name": "PD_spis_tresci.ipynb",
      "provenance": [],
      "collapsed_sections": []
    },
    "kernelspec": {
      "name": "python3",
      "display_name": "Python 3"
    }
  },
  "cells": [
    {
      "cell_type": "markdown",
      "metadata": {
        "id": "7pd6AbOIQ06c",
        "colab_type": "text"
      },
      "source": [
        "[![Open In Colab](https://colab.research.google.com/assets/colab-badge.svg)](https://colab.research.google.com/drive/1MjzUke5SDxffqmpruiUzfdBLR6gKbCBM)"
      ]
    },
    {
      "cell_type": "markdown",
      "metadata": {
        "id": "Qf-4ZEZBc141",
        "colab_type": "text"
      },
      "source": [
        "# [Analiza problemu reidentyfikacji obiektów z wykorzystaniem głębokich sieci neutronowych.](Praca_Dyplomowa_Tomasz_Tarabasz.ipynb)"
      ]
    },
    {
      "cell_type": "markdown",
      "metadata": {
        "id": "iNRcJ1tDQUyq",
        "colab_type": "text"
      },
      "source": [
        "1. [Streszczenie](PD_s_w_w.ipynb)\n",
        "1. [Wstęp](PD_s_w_w.ipynb)\n",
        "  <br>2.1 [Motywacja](PD_s_w_w.ipynb)\n",
        "  <br>2.2 [Cel pracy](PD_s_w_w.ipynb)\n",
        "1. [Wybór systemów reidentyfikacji](PD_s_w_w.ipynb)\n",
        "1. [Data sety](PD_data_sets.ipynb)\n",
        "  <br>4.1 [Market1501](PD_data_sets.ipynb)\n",
        "  <br>4.2 [Duke MTM](PD_data_sets.ipynb)\n",
        "  <br>4.3 [Własny zbiór danych](PD_data_sets.ipynb)\n",
        "  <br>4.4 [Zbiór wygenerowany z nagrania pobranego z YouTube](PD_data_sets.ipynb)\n",
        "  <br>4.5 [Komórki pomocnicze](PD_data_sets.ipynb)\n",
        "  <br>4.5 [Podsumowanie wyboru datase-u](PD_data_sets.ipynb)\n",
        "1. [Modele](PD_modele.ipynb)\n",
        "  <br>5.1 [Model Resnet50](PD_modele.ipynb)\n",
        "  <br>5.2 [Model EfficientNet](PD_modele.ipynb)\n",
        "  <br>5.3 [Porównanie modeli](PD_modele.ipynb)\n",
        "1. [Rozwiązania optymalizuąć proces trenowania](PD_rozw_opt_proc_tren.ipynb)\n",
        "  <br>6.1 [Rozgrzewanie kroku uczenia (Warmup Learning Rate)](PD_rozw_opt_proc_tren.ipynb)\n",
        "  <br>6.2 [Losowo wycinanie (Random Erasing Augumentation)](PD_rozw_opt_proc_tren.ipynb)\n",
        "  <br>6.3 [Wygładzanie adnotacji (Label Smoothing)](PD_rozw_opt_proc_tren.ipynb)\n",
        "  <br>6.4 [Zmiana ostatniego warstwy konwolucyjnej (Last Stride)](PD_rozw_opt_proc_tren.ipynb)\n",
        "  <br>6.5 [BBNeck](PD_rozw_opt_proc_tren.ipynb)\n",
        "  <br>6.6 [Center Loss](PD_rozw_opt_proc_tren.ipynb)\n",
        "  <br>6.6 [Podsumowanie](PD_rozw_opt_proc_tren.ipynb)\n",
        "1. [Rozwiązanie bazowe](PD_rozw_bazowe.ipynb)\n",
        "  <br>7.1 [Instalacja i import bibliotek](PD_rozw_bazowe.ipynb)\n",
        "  <br>7.2 [Połączenie z zewnętrznym dyskiem i pobranie repozytorium](PD_rozw_bazowe.ipynb)\n",
        "  <br>7.3 [Inicjalizacja modeli](PD_rozw_bazowe.ipynb)\n",
        "  <br>7.4 [Sprawdzenie środowiska wykonawczego](PD_rozw_bazowe.ipynb)\n",
        "  <br>7.5 [Stworzenie funkcji pomocniczych](PD_rozw_bazowe.ipynb)\n",
        "  <br>7.6 [Uruchomienie treningu](PD_rozw_bazowe.ipynb)\n",
        "  <br>7.7 [Własna ewaluacja](PD_rozw_bazowe.ipynb)\n",
        "1. [Modyfikacje](PD_modyfikacje.ipynb)\n",
        "  <br>8.1 [Inicjalizacja modelu EfficientNet](PD_modyfikacje.ipynb)\n",
        "  <br>8.2 [Użycie jako sieci bazowej sieci EffcietNet](PD_modyfikacje.ipynb)\n",
        "  <br>8.3 [Zmniejsznie rozmiaru embeddingu](PD_modyfikacje.ipynb)"
      ]
    }
  ]
}