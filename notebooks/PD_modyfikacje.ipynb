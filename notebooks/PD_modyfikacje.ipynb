{
  "nbformat": 4,
  "nbformat_minor": 0,
  "metadata": {
    "colab": {
      "name": "PD_modyfikacje.ipynb",
      "provenance": [],
      "collapsed_sections": []
    },
    "kernelspec": {
      "name": "python3",
      "display_name": "Python 3"
    }
  },
  "cells": [
    {
      "cell_type": "markdown",
      "metadata": {
        "id": "2APrRHXAtumo",
        "colab_type": "text"
      },
      "source": [
        "[![Open In Colab](https://colab.research.google.com/assets/colab-badge.svg)](https://colab.research.google.com/drive/1MjzUke5SDxffqmpruiUzfdBLR6gKbCBM)"
      ]
    },
    {
      "cell_type": "markdown",
      "metadata": {
        "colab_type": "text",
        "id": "7VcYmp9qcq4T"
      },
      "source": [
        "<br>\n",
        "\n",
        "< [7. Rozwiązanie bazowe](PD_rozw_bazowe.ipynb) | [9. Trening zmodyfikowanych modeli](PD_tren_zmod_modeli.ipynb) >\n"
      ]
    },
    {
      "cell_type": "markdown",
      "metadata": {
        "id": "bwBwo6PtHUoz",
        "colab_type": "text"
      },
      "source": [
        "## [8. Modyfikacje]()"
      ]
    },
    {
      "cell_type": "markdown",
      "metadata": {
        "id": "aLmqIzfF5EOb",
        "colab_type": "text"
      },
      "source": [
        "### 8.1 Inicjalizacja modelu EfficienNet"
      ]
    },
    {
      "cell_type": "markdown",
      "metadata": {
        "id": "a6c2KrRmV2ke",
        "colab_type": "text"
      },
      "source": [
        "Zamnim siec została użyta do reidentyfikacji zainicjalizowano ją oraz przetestowano używając kodu poniżej."
      ]
    },
    {
      "cell_type": "markdown",
      "metadata": {
        "id": "oZkd7Gbm5Rtc",
        "colab_type": "text"
      },
      "source": [
        "EfficientNet b0"
      ]
    },
    {
      "cell_type": "code",
      "metadata": {
        "id": "8MrJwaDP5NW1",
        "colab_type": "code",
        "colab": {}
      },
      "source": [
        "!pip install efficientnet_pytorch\n",
        "from efficientnet_pytorch import EfficientNet\n",
        "model_efficient = EfficientNet.from_pretrained('efficientnet-b0')\n",
        "path_to_models = './models/efficientnet-b0.pth'\n",
        "torch.save(model_efficient.state_dict(), path_to_models)"
      ],
      "execution_count": null,
      "outputs": []
    },
    {
      "cell_type": "markdown",
      "metadata": {
        "id": "kqjMpwmj5VDZ",
        "colab_type": "text"
      },
      "source": [
        "EfficientNet b7"
      ]
    },
    {
      "cell_type": "code",
      "metadata": {
        "id": "I_lRC1dA5Xlu",
        "colab_type": "code",
        "colab": {}
      },
      "source": [
        "!pip install efficientnet_pytorch\n",
        "from efficientnet_pytorch import EfficientNet\n",
        "model_efficient = EfficientNet.from_pretrained('efficientnet-b7')\n",
        "path_to_models = './models/efficientnet-b7.pth'\n",
        "torch.save(model_efficient.state_dict(), path_to_models)"
      ],
      "execution_count": null,
      "outputs": []
    },
    {
      "cell_type": "markdown",
      "metadata": {
        "id": "4Fy4hUCekrrN",
        "colab_type": "text"
      },
      "source": [
        "### 8.2 Użycie jako sieci bazowej sieci EfficientNet"
      ]
    },
    {
      "cell_type": "markdown",
      "metadata": {
        "id": "yOOseUsNift_",
        "colab_type": "text"
      },
      "source": [
        "Główną modyfikacją jaka została wytestowana w tej pracy było użycie jako sieci bazowej do ekstrakcji cech, sieci EfficientNet. Ten model nie został zaimplementowany i przetestowany w bazowej wersji frameworku. Wiecej na temat powodów wyboru tej sieci przedstawiono w punkcie 5.2"
      ]
    },
    {
      "cell_type": "markdown",
      "metadata": {
        "id": "8G8bpuJygZfx",
        "colab_type": "text"
      },
      "source": [
        "<img src=\"https://github.com/tomektarabasz/Praca_Dyplomowa_Tomasz_Tarabasz/blob/master/img/EfficientNetBackBone.png?raw=true\" alt=\"drawing\" width=\"800\"/>\n",
        "<br><br>"
      ]
    },
    {
      "cell_type": "markdown",
      "metadata": {
        "id": "hLrSroUfxdTM",
        "colab_type": "text"
      },
      "source": [
        "<img src=\"https://github.com/tomektarabasz/Praca_Dyplomowa_Tomasz_Tarabasz/blob/master/img/TrainEfficientNet.png?raw=true\" alt=\"drawing\" width=\"800\"/>\n",
        "<br><br>"
      ]
    },
    {
      "cell_type": "markdown",
      "metadata": {
        "id": "WYgwPLGtjGpl",
        "colab_type": "text"
      },
      "source": [
        "### 8.3 Zmiejszenie rozmiaru embeddingu"
      ]
    },
    {
      "cell_type": "markdown",
      "metadata": {
        "id": "DZwEUryThpqe",
        "colab_type": "text"
      },
      "source": [
        "W celu zmniejszenia rozmaru generowanego embeddingu zdecydowano o zmniejszeniu rozmaru ostatniej warstwy sieci z 2000 parametrów do 512"
      ]
    },
    {
      "cell_type": "code",
      "metadata": {
        "id": "mvCU1Q5wjgQ4",
        "colab_type": "code",
        "colab": {}
      },
      "source": [
        ""
      ],
      "execution_count": null,
      "outputs": []
    },
    {
      "cell_type": "markdown",
      "metadata": {
        "id": "PNJQOIifj8P9",
        "colab_type": "text"
      },
      "source": [
        "### 8.4 Zminiejszenie precyzji zapisywanych parametrów do float16"
      ]
    },
    {
      "cell_type": "markdown",
      "metadata": {
        "id": "Xg3mQJJkkNui",
        "colab_type": "text"
      },
      "source": [
        "Zmniejszenie precyzji z jaką zpisywane są parametry w sieci jest istotne dla optymalizacji procesu obliczeń na urządzeniach producenta kart graficznych N-vidia oraz dla samego rozmiaru zapisanego modelu. Poniżej fragmet zmian w kodzie zapewniający transformację precyzji do float16"
      ]
    },
    {
      "cell_type": "markdown",
      "metadata": {
        "id": "xAYLy53QlDHv",
        "colab_type": "text"
      },
      "source": [
        "<img src=\"https://github.com/tomektarabasz/Praca_Dyplomowa_Tomasz_Tarabasz/blob/master/img/ZmniejszeniePrecyzji.png?raw=true\" alt=\"drawing\" width=\"800\"/>\n",
        "<br><br>"
      ]
    },
    {
      "cell_type": "markdown",
      "metadata": {
        "id": "7_m_o7NLnxAp",
        "colab_type": "text"
      },
      "source": [
        "### 8.5 Wprowadzenie dodatkowej augumentacji danych"
      ]
    },
    {
      "cell_type": "markdown",
      "metadata": {
        "id": "4QiXDxqnn4xT",
        "colab_type": "text"
      },
      "source": [
        "Próbą zwiekszenia prezycji wyznaczanych embeddingów \n",
        "<br><br>\n",
        "<img src=\"https://github.com/tomektarabasz/Praca_Dyplomowa_Tomasz_Tarabasz/blob/master/img/baselineChanges.png?raw=true\" alt=\"drawing\" width=\"800\"/>\n",
        "<br><br>"
      ]
    },
    {
      "cell_type": "markdown",
      "metadata": {
        "id": "yQYtOJWSkmsG",
        "colab_type": "text"
      },
      "source": [
        "### 7.2 Wprowadzenie funkcji Swish jako funkcji aktywacji"
      ]
    },
    {
      "cell_type": "markdown",
      "metadata": {
        "id": "ho2xRraRB0F4",
        "colab_type": "text"
      },
      "source": [
        "Funkcja Swish zdefiniowano jako: \n",
        "<br><br>\n",
        "$\\text{Swish}(x) = x \\cdot (1 - {e}^{-x})^{-1}$\n",
        "<br><br>\n",
        "<img src=\"https://github.com/tomektarabasz/Praca_Dyplomowa_Tomasz_Tarabasz/blob/master/img/Swish_plot.jpg?raw=true\" alt=\"drawing\" width=\"400\"/>\n",
        "<br><br>\n",
        "\n",
        "Zgodnie z [[3] Why Swish could perform better than ReLu](https://www.machinecurve.com/index.php/2019/05/30/why-swish-could-perform-better-than-relu/?fbclid=IwAR1muCJQpjU4M4dHcCx2wj3PAtYtL6rpEi5-aU9LSjrkrBONQXTqScR2AtU) taka postać funkcji aktywacji może poprawić wyniki poprzez:\n",
        " - Dla dużych wartości ujemnych, tak jak funkcja ReLu zeruje takie aktywacje.\n",
        " - Dla wartości dodatnich aktywacji funkcja Swish zachowuje się podobnie do ReLu i nie ograniczna tych wartości \"od góry\"\n",
        " - W okolicjach zera funkcja jest różniczkowalna i nie zawiera nielinowości\n",
        " - Małe wartości ujemne nie są zerowane co może pomóc w doszkalaniu modelu w procesie szukania subtelnych cech głębokich."
      ]
    },
    {
      "cell_type": "markdown",
      "metadata": {
        "id": "IpTaN2wARjNl",
        "colab_type": "text"
      },
      "source": [
        "<br>\n",
        "\n",
        "< [7. Rozwiązanie bazowe](PD_rozw_bazowe.ipynb) | [9. Trening zmodyfikowanych modeli](PD_tren_zmod_modeli.ipynb) >\n"
      ]
    }
  ]
}