{
  "nbformat": 4,
  "nbformat_minor": 0,
  "metadata": {
    "colab": {
      "name": "PD_rozw_opt_proc_tren.ipynb",
      "provenance": [],
      "collapsed_sections": []
    },
    "kernelspec": {
      "name": "python3",
      "display_name": "Python 3"
    }
  },
  "cells": [
    {
      "cell_type": "markdown",
      "metadata": {
        "id": "2APrRHXAtumo",
        "colab_type": "text"
      },
      "source": [
        "[![Open In Colab](https://colab.research.google.com/assets/colab-badge.svg)](https://colab.research.google.com/drive/18EbJFtYbRlYhUg7iKEm2RTqVIh8xChXl?usp=sharing)"
      ]
    },
    {
      "cell_type": "markdown",
      "metadata": {
        "id": "IpTaN2wARjNl",
        "colab_type": "text"
      },
      "source": [
        "<br>\n",
        "\n",
        "< [5. Modele](PD_modele.ipynb) | [7. Rozwiązanie Bazowe.](PD_rozw_bazowe.ipynb) >\n"
      ]
    },
    {
      "cell_type": "markdown",
      "metadata": {
        "id": "1iULHWjzd8im",
        "colab_type": "text"
      },
      "source": [
        "## [6. Rozwiązania optymalizujące proces trenowania.]()"
      ]
    },
    {
      "cell_type": "markdown",
      "metadata": {
        "id": "F7ejVvXFUB-0",
        "colab_type": "text"
      },
      "source": [
        "Zmiany poprawiające proces uczenia zaimpementowane w [[1] reid-strong-baseline -github](https://github.com/michuanhaohao/reid-strong-baseline) zostały zaprezentowane na grafice umieszczonej poniżej.\n",
        "<div align=\"center\">\n",
        "<br><br>\n",
        "<img src=\"https://github.com/tomektarabasz/Praca_Dyplomowa_Tomasz_Tarabasz/blob/master/img/reidTricks.jpg?raw=true\" alt=\"drawing\" width=\"400\"/>\n",
        "<br> Rys.6 Ilustracja przestawiająca proces przetwarzania danych w użytym framework-u <a href=\"https://arxiv.org/pdf/1903.07071.pdf\">[6]</a>\n",
        "\n",
        "<br><br>\n",
        "</div>\n"
      ]
    },
    {
      "cell_type": "markdown",
      "metadata": {
        "id": "ptIMo97ueGHH",
        "colab_type": "text"
      },
      "source": [
        "### 6.1 Rozgrzewanie kroku uczenia (Warmup Learning Rate)"
      ]
    },
    {
      "cell_type": "markdown",
      "metadata": {
        "id": "tWCc565k7ias",
        "colab_type": "text"
      },
      "source": [
        "Learning Rate ma bezpośredni wpływ na to jak szybko model zmienia swoje wagi. W celu wygenerowanai statystyk ułatwiających manipulowaniem parameterem Learning Rate przez optymalizator, statuje się mechanizm nazywany \"Rozgrzewaniem kroku uczenia\". Polega on na poświęceniu kilku pierwszych epok na stworzeniu statystyk przy ustawionym domyślnie kroku uczenia na niskim poziomie. W praktyce zaimplementowano to w spoósb:\n",
        "\n",
        "<div align=\"center\">\n",
        " <img src=\"https://github.com/tomektarabasz/Praca_Dyplomowa_Tomasz_Tarabasz/blob/master/img/learning-rate.png?raw=true\" alt=\"drawing\" width=\"400\"/>\n",
        "<br>\n",
        " Rys.7 Ilustracja z wartościami larning rate w zależności od ilości przetrenowanych epok <a href=\"https://arxiv.org/pdf/1903.07071.pdf\">[6]</a>\n",
        "</div>"
      ]
    },
    {
      "cell_type": "markdown",
      "metadata": {
        "id": "5-9VsCY2emKh",
        "colab_type": "text"
      },
      "source": [
        "### 6.2 Losowo wycinanie (Random Erasing Augumentation)"
      ]
    },
    {
      "cell_type": "markdown",
      "metadata": {
        "id": "bIi9QLc47jd3",
        "colab_type": "text"
      },
      "source": [
        "Losowe wycinanie fragmentów obrazów jest powszechnie stosowanym sposobem augumetacji danych. Ma on na celu uniezależnienie modelu na zmiany, które nie powinny być ważnymi cechami obiektu na ktorego podstawie generowany jest jego embeding.\n",
        "\n",
        "\n",
        "Przykład realizowany na opisanym powyżej datasecie Martek1501:\n",
        "<div align=\"center\">\n",
        " <img src=\"https://github.com/tomektarabasz/Praca_Dyplomowa_Tomasz_Tarabasz/blob/master/img/random_erasing.png?raw=true\" alt=\"drawing\" width=\"400\"/>\n",
        "<br>\n",
        "Rys.8 Przykłady augumentacji danych. Wycinanie losowego fragmentu obrazu <a href=\"https://arxiv.org/pdf/1903.07071.pdf\">[6]</a>\n",
        "</div>"
      ]
    },
    {
      "cell_type": "markdown",
      "metadata": {
        "id": "qlhJqJ95emHe",
        "colab_type": "text"
      },
      "source": [
        "### 6.3 Wygładzanie adnotacji (Label Smoothing)"
      ]
    },
    {
      "cell_type": "markdown",
      "metadata": {
        "id": "fwNsZsgm7k2o",
        "colab_type": "text"
      },
      "source": [
        "Ponieważ adnotacja danych bierze udział w przeliczaniu funkcji strat jako jeden z jej składników, problemem staje się przetrenowanie modelu w kontekście wykrywania właśnie adnotacji. Metodą na prewencję takiej sytuacji jest użycie \"Wygładzania adnotacji\". Polega to rozłożeniu niewielkiej części prawdopodobieństwa na inne klasy. W przypadku rozpatrywanym w tej pracy na bazie zbioru danych Markets1501 inną klasą jest id innej osoby. \n",
        "\n",
        "<img src=\"https://github.com/tomektarabasz/Praca_Dyplomowa_Tomasz_Tarabasz/blob/master/img/label_smoothing.png?raw=true\" alt=\"drawing\" width=\"400\"/>"
      ]
    },
    {
      "cell_type": "markdown",
      "metadata": {
        "id": "yndW5HMYjP7l",
        "colab_type": "text"
      },
      "source": [
        "![image.png](data:image/png;base64,iVBORw0KGgoAAAANSUhEUgAAAQAAAAFSCAIAAACSVpbNAAAgAElEQVR4Ae2de18Tx9v/7+fyexJDMAEFRPySQIBIommDYkHli2LByMETLQctChiswdzSVIUAglTvABEiQdccSGANWTPP5/eqVzvdbrKbZMlhA5M/YLI7x8/Me3dms9dc/9Mg+UH0QxU41Ar8j+T4bzjUbaeNowogCgAdBEdaAQrAke5+2ngKAB0DR1oBCsCR7n7aeAoAHQNHWgEKwJHuftp4mQBotdr29vajKZ9Go7FarSqV6mg2v7CtNpvNRqMxi3WQCUBXV5fb7c5iPYooq5qaGoyxWq0uojofmqra7faxsbEsNocCkLGYFICMJcteAgpA9rSUmxMFQK5yWUhXYAB6enq4b5+vX79ijCHs8XigZcePH4cjHMcNDw/zm7u2tganlpeX+cfb29tJEovFwj+VaRKJ0icmJkgp/CIkkiSWrtVqSSak7RzHVVRUQJ6JSeC4WBslSs9KhaVLRwgVUYUdDgeIH//2gfDjx4/5vSkvnNkU6MSJE43fPoODg+/fv4ewTqeDsktKSvR/fyorK/kVqq2thTOnT5/mHy8rK/s7hV6j0fBPZZpEovSTJ0+SUvhFSCRJLL20tBTae/78eYxxc3MzfCWr4cQkUJZYGyVKz0qFpUtHCBVRhWtqakDtly9f2u12CFdXV/N7U144MwBIGXQRTBfBZDDkM1DgKRBpKgWAAkAGQz4DSgEgn22mZVEFcqeAzClQ7ipEc6YK5FMBCkA+1aZlKU4BCoDiuoRWKJ8KUADyqTYtS3EKUAAU1yW0QvlUgAKQT7VpWYpTQCYA3d3da2tr2W2N3+/v7u7Obp65yK22thZjXFZWlovMc5qnchQOh8NXr16V0ViHwzE+Pi4joViSfADAMAzmfcTIUU73iIkFxzMFQK/Xz83N7e3tRSKRubk5vV4vnX/uzqavsMfjuXv3blZqMjk56XK5BFkdLQD0er3BYHC73QsLCwaDoa6uTiAHfE2/e5Imz9vBjAA4ffp0JBJZWFg4f/680Wi8deuWvCtfVlqXvsIUgL/2yxLTXcYUaGlpyel0CjIcGhra2dmJRCJDQ0PpdE9/f/+HDx+Gh4cDgcDOzs7Q0BBkqFKp7Hb7x48fY7EYwzAjIyMlJSUIoZaWllAo5HK5gsFgX1+fx+Px+/0GgwFS6XQ6l8vFsmwgELDZbIK38QRVJV8zAsButzMMU1paSpKTgFqtxhh3dnbOz89Ho9GdnZ22tjaEUGlp6aNHj0Kh0P7+/srKSkPDX9uTNTY2YoxPnjwJOdhsttnZWQiHw+GRkZF3796xLOt2u7VaLSklU4V9Ph/vbv1n8PLly5CbWIVfvHjx66+/QpzKykqMMShst9sFWU1OTpIK37lzZ2lpKRqNCipMap40UJRTIGhJIgBXrlzZ39+/du1aQ0ODy+XiOC7lGqC/v5/juKGhIZVK1dLSEo/HYUZRWlr666+/WiyW2tra1tbWnZ2d3t5eAABjbDab7XZ7LBZrbm7+7bffnj59ihBSq9WfPn2ampqqr683Go1ut/vJkydJRRcczAiAQCAwMTEhyAG+wnjy+XwdHR3l5eVNTU3Nzc0Iobt374bD4ba2Nr1e/+rVK5/PB/xIA7C9vV1bW6tWq1+/fk0uNDIUhrolvQOIVVgMAMhKbArEMMzly5ebm5s9Hg+pcFKh+AcPFQDz8/MzMzPQPBhV6QDAsiy5oDIMc/36db5AELbZbC9fvgQAwuEwQqirq2trawsh1N/f//r1a4TQzZs34QgkaWlpiUajiVklHkkfgNLSUozx7du3IRN4i52YksJ4un//vqAIn89H7mxVVVUcx8GdQRqAwcFByKe7u3t7exvCMhSGhBIAJFZYHgAkn5s3b5IKC6RI/HqoANja2vrpp59II1mWTQcAn89Hkmxubt66dQu+9vf3e73eaDQKt10Y5S0tLX6/HyHU0dEBhjtWq/Xt27cIoampKcENmj/BIEUkBtIHQKVSYYz7+vogk8bGxqdPn5JnAAAADG5SSmlpKcdxZNaBEPL7/dBGaQCuXbsGmXR0dEQiEQjLUBgSSgAgqDBCSB4AXV1diRWGIxJ/DxUAHz584D9qiEQi6QDw4cMHItDm5iZcX69cufLly5f29naYx09OTi4tLcEdQAKAhYUFklX6gfQBQAgFAoFffvmFZP7gwQMBAGazmZyFBQDHcZcuXSIHCQANDQ18RJ88ecJfA5C1dUdHx+7uLiSXoTAklABAUGEBACdPniRrAMhKbAqUtMKk1WKBQwWAy+Ui0+6Kiop4PC4bgEePHvFH89K3jzQAvb29oVAozYUvvz8yAuDZs2ebm5uwIkcIpQQAIbS9vS2YAsEONGCLTOzvXC5XSgBkKAwtXV1d5d+c4SDcshIBsNvtZCprNBoFADx8+HBxcZEvIEKI/xiUT6wgWuLXogRA7DFoe3t7OBzW6XQlJSXj4+MYY9kAWK1Wv99fVVWFELp69SrHcSnvABqNhmGY+fl5k8lUX19//fp1u92eqHjikYwA0Gq1u7u7s7OzFovFaDSurKysrq5CnmLjaXBwkL8IZhgGrC5LSkr8fj8YW589ezYajaYEQIbCULeZmZk3b95UVVWp1WpCr1iFrVZrMBisqqoqLS11Op0CAG7cuLGzs6PX69VqNVm8HS0AJH4IGxoaCoVC29vbv/zyS/qPQcmgJFMglUo1NTUVCAQYhnE6nU+ePEkJAEJIp9PNzs7u7e2xLLu+vt7f309ylghkBABCqKmpaWFhgWXZL1++LC4uwqMeeAwFT6gEZalUqomJiZ2dnVgs9vbt26amJhLh4sWLHz9+DIVCv//+u8PhSAkAQihThaGs+vr6d+/ewYKKLEjEAFCr1U6nc3d31+v1Wq1WAQAajebFixe7u7sYY/5j0CM3BSK9WOyBTAEo9vYqqv5FOQVSlIIHrwwF4OAays6BAiBbuqwlpABkTcrMM1IKAAaDwWq1Zl7/1Cl0Ot2kyIe8BZA6l1zGOHHixOjoKFnP5bKonOStfIUlmn358uXW1laJCJmekvk2aKbF0PhUAWUqQAFQZr/QWuVJAQpAnoSmxShTAQqAMvuF1ipPCsgEgHqIIXvi5qmjaDHfFKAeYgo/EKh/gAL2gVL2BqWb49LNcQuCAQWgILL/q1B6B/iXHPn9UmAAqIcYsOqiHmIEHoBy7dKGeoj55zpTKIcr1ENMAV3aUA8x/wBQ8BCdAhWwCwo8BSItp4tguggmgyGfAaUAkM8207KoArlTQOYPYbmrEM2ZKpBPBSgA+VSblqU4BSgAiusSWqF8KkAByKfatCzFKUABUFyX0ArlUwEKQD7VpmUpTgGZAMjYHj39puv1erJrZ21tbWJC2KDm7NmziafycIQaxedBZLEilGIUn0UAHj58GIvF7ty5I2izTqfDGCcFQKVSORwO/i74grQ5/VpcALS1tXm93v39fY/Hk7irYU6FykXmhxCADx8+TE5Owo7NfMkkAOBHy3+4iACoq6uLxWLj4+NNTU12u31vb08hO2vI7rXDBoBer2dZtrKyMhaLCfpGDAAyO0qcAt26dcvn88Vise3tbbIpOULo9u3bHz9+jEaja2trFotFtvqQsIgAGBsbI1vvq1SqSCSSeKc9oBp5Tn7YAPjpp5/m5uYQQm/fvr1x4wZfTTEAyK6aAgAGBgZYlr1x44ZOp7tw4cKDBw8gt97e3s+fP7e1tWm12r6+vi9fviSdVvGLlg4XEQDLy8tk32aE0OLi4m+//SbdOoWfPWwArK6uwqV6ZGQESCAdkCkA4XD43r17JDkJBINB4jwCIbSyspI0GomfMlBEAGxsbExMTLS2tkYiEaPRODMzs7y8nLKBSo5wqACorq6Ox+Ow4b3ZbI5Go/zd+jMCoLq6GmMsuCcghKqqqsiUiQSIRzd5PV1cANhsNqPR+P79+4aGht9//50CIOj0Qj4G7evrwxjv//3BGF+5coXUL4sAmEwmku3BA0UEwPLyMt//3NLSEp0CCQZAIQFYXFx0OBz6vz9zc3PPnz8n9QNnO0ndSif9HUBiCnTAOQ+pEgSKCICHDx8yDAPVVqlULMvSRbCgNwsGQHl5eSwW41/yrVZrOBzmbzrLMMzExMSpU6cqKir49U4KACyCu7u7tVqtxWIZGRmBJH19fbA41mq1ZrN5cnLywoUL/NwyDRcRAPAYdGJigj4GFevlggFw9erVeDzOH9larRZjfP78eVJXi8Xi8/ni8Tg4eEQIjY2Nkak8BPiuwW7fvg2PQX0+H/8x6MDAABz3+/1Op/OAv6AVEQAIofb2dq/XG4vF3r9//9133xFtizRwqBbBRdoHxQVAkYosVm0KgJgy+TtOAcif1gklUQASJMn7AQpA3iX/p0ClAJA7DzH/tFWpoWL3EKNUXdOqF/UQk5ZMNBJVIE0FZD4FSjN3Go0qoHAFZAKQRXuArAhkMBgwxpWVlVnJTToTugaQ1ienZ5WyBsgpALD3IDzmj0QiCwsLfG/pSfWlACSVBSFEDWLElIHjSrwDAADd3d16vf7cuXNzc3N+v1/aIwsFIGk3U4OYpLLwDyoXAPLCQmtrK9828scff4Sfdb1eL3mTAgDo6+v7/Pkzy7IOhyN3e3cW0RSIGsTwx3rSsNIBKCsrm56eDgQC8I6Q0Wj8+vXrwMBAXV3d8PAwx3HwNjUA4PF4mpubLRaL3+8nBjFJm32Qg0UEADWISdnRygUgFovt7+9jjBmGaW5uhpbY7Xb+G+0bGxuPHj1CCAEA7e3tEO327duhUChl4+VFKCIAqEFMyi5WLgCwBjCbzc+fP9/e3i4vLwd7rsnJSdKqmZmZV69eEQD+85//wKkLFy5gjCEJiZytQHEBQA1ipPtduQCQNQC8yG61WgGAiYkJ0iRpAMrKykjMLAaKCABqEJOy34sAAIRQJBK5e/cuQmh6elowBRofHyd3AP4UKBgMpmy8vAhFBAA1iEnZxcoFAKZAJpPJZrNxHHfmzBmEkMlkisfjAwMDOp1ueHj469evYDIGa4D19XWyCB4dHU3ZeHkRiggAahCTsouVCwD5Iezdu3fk0o4Q6unp2d7ejsViW1tbnZ2d0EIAoL+/3+/3syz77NmzY8eOpWy8vAhFBAA1iEnZxUoEIGWlCxuhuAAorFZZL/1IvAqRddWymyEFILt6ZpQbBSAjuXISmQKQE1nTy1QpAFCDGP7uFen1HY2VBQWoQUwWRKRZUAWIAjIXwSQ9DVAFiloBmQDk1B4gu4Jardbs/ihG1wDZ7aCMclPKGiArAPBdIcFTf5/Pl5Ec6UQ+ygCo1WqHw+H1euPxuN1uT0cuhcc5hAB0d3cb/v4k3Qn0gF1ylAHQaDRPnz7t6enxeDwUgKQDqZBTILgDiDmucrvdo6Ojjx8/DofDLMvCqw1arXZ2djYYDMZisY2NjY6ODmhVY2MjxthqtW5tbbEs63Q6yU7rfADa29v39vZaW1uTapHmwWKcAq2srFAAkvavogEIhULDw8OVlZU1NTUXL16Ed4GGh4eNRmNtbW1vby/HcXDTAADm5ubKyspqamoCgUBvby80mACQldGPEKIAJB1J+Tl4CKdAMPuHv/39/URHt9ud6DmPnIXA5ubmwMAAQggAIA4yHA7H9PQ0xAEA2traDn7thwwpAIJeyOfXQwgAfw3A39fE7XaDtRdfX41G8/jxY4ZhOI4DZn7++WcCwKlTpyCyzWYDQxmEkNVqjcViX7582dvbO6B3MMicAsDvkTyHDyEAEmuAoaEhgb6PHz/2er1nzpyBTSI8Hg/EgTsA8TNps9lmZ2chLQBgsVgWFxf/+OOPkpISQZ6ZfqUAZKpYFuMfdQBWV1cHBwdBUI1Gw7JsOgDA7wA1NTWRSIQkl90rFADZ0h084VEHYGZmZn5+XqVSlZaWgqFM+gAghLq6umKxGNjWyO6M4gKgoaHBYDCsra29fPnSYDAc0DmIbNGylfCoA3Dq1KmFhYVgMPjx48fR0VG3250RAAihFy9eeL3eg+waVFwABINB/mOGpaWlbI3FguRzqAAoiIIHL7S4ADh4exWVAwWg8N1BAShgH1AACij+X0VTAArYB0oBgBrEUIOYgmBADWIKIjst9NAqIPNdoEOrB23YEVNAJgBZsQfIp9QXL17c39/PSol0DZAVGeVlopQ1QE4BcDqdGOOuri7Q6N69exhjm80mTzJI1dTUlK33gYsLAOohRnrYKPEO4HQ6GYZxuVxQ9fX1dYZhDgiAtAoZnS0iAKiHmJQ9q1AAHA6H3++vqKioq6vzer0ulwsAEDOIQQip1WqMcWdn5/z8fDQa3dnZaWtrQwi1tLTAT6FHcApEPcQUKwB2u31qaspqtY6MjAwPDxMATCZTUoMYAoDP5+vo6CgvL29qaiJuNRBCR3MNQD3EFDEAZrN5eXnZ6/XW1dURAATtIQYxBID79+8L4sDXowkA9RCTdDDwDyp0CgQLVoZh1tfXEUIEADGDGAIATHv4LTziAFAPMYmDgX9E0QC0trZ+//33fADEDGIIAGLmNUfzDkA9xPDHetKwogEgNSZ3ADGDGAoA0YofoB5i+GokDRcZAGIGMRSApL1LPcQklYV/sMgAEDOIkQDA7XbzLUIwxge0iiyi3wGohxj+WE8aViIASSuqnIPFBYBydMtKTY7EqxBZUSp3mVAAcqdtypwpACklynkECkDOJRYvQCkAUIMYahAjPkpzeIYaxORQXJr1EVRA5iL4CCpFm3woFZAJQE7tARQuNF0DFLCDlLIGyDUAgu2cMMa58J0hryOLCwBqECPdywq9AwSDQZvN9rfjmD//Hzt2TLoleTtbRABQg5iUo0K5AMCeh4IGfP782Wq1koNDQ0MbGxvwVafTuVwulmUDgYDNZiMeYkjkbAWKCABqEJOy04sMgPHxcf7ulmR7dLVa/enTp6mpqfr6eqPR6Ha7nzx5krLx8iIUEQDUICZlFysXAP4LPCzLQktMJhPHceBHQ6vVYozr6uoQQjdv3tza2iKtbWlpiUaj5Gt2A0UEADWISdn1ygWAvwZoamoiLfn06dONGzcQQoODg2AugxCampriAwNh4i+DpM1KoLgAoAYx0p2uXACSrgEQQg8fPnz9+jVCaH19/d69e9C8qamphYUF6aZm62wRAUANYlJ2evEB0NzczHGc0WiMx+PE51dvb28oFMrdwpevYxEBQA1i+B2XNKxcAPhTIIPBUF5eThrg8/k2NzdXV1fJEY1GwzDM/Py8yWSqr6+/fv16trbBIkWQQBEBQA1iSK+JBZQLgGBOD36CoRkPHjzAGN+5c4ffKp1ONzs7u7e3x7Ls+vo63+MqP9rBw0UEADWISdndCgUgZb0LGKG4ACigULko+qi8CpEL7bKVJwUgW0rKyIcCIEO0LCehAGRZ0EyyUwoA1CCGGsRkMm6zFpcaxGRNSpoRVQAhJHMRTLWjChwOBSgAh6MfaStkKkABkCkcTXY4FJAJgFarbW9vPxwSZNoKjUZjtVpVKlWmCWn8gytgNpuNRuPB8yE5yASgq6vL7XaTXI5UoKamBmOsVquPVKsV0li73T42NpbFylAAMhaTApCxZNlLQAHInpZyc6IAyFUuC+kKDEBPTw/37fP161eMMYQ9Hg+07Pjx43CE47jh4WF+c9fW1uDU8vIy/3h7eztJYrFY+KcyTSJR+sTEBCmFX4REksTStVotyYS0neO4iooKyDMxCRwXa6NE6VmpsHTpCKEiqrDD4QDx498+EH78+DG/N+WFM5sCnThxovHbZ3Bw8P379xDW6XRQdklJif7vD1gtkjrV1tbCmdOnT5ODCKGysrK/U+gFb/NnmkSi9JMnT5JS+KVLJEksvbS0FNp7/vx5jHFzczN8JavhxCRQllgbJUrPSoWlS0cIFVGFa2pqQO2XL1/a7XYIV1dX83tTXjgzAEgZdBFMF8FkMOQzUOApEGkqBYACQAZDPgNKASCfbaZlUQVyp4DMKVDuKkRzpgrkUwEKQD7VpmUpTgEKgOK6hFYonwpQAPKpNi1LcQpQABTXJbRC+VSAApBPtWlZilOAApCkS3Z3dzs6OpKcEDmk1+vJLkZkszqRuEo5HA6Hr169KlYbtVqNMT579qxYhENz/EAA6PV6juNgf2aBIk6n8/nz54KDCKHe3t5Pnz4lWpSrVCqGYWDXW0EqGUn4OYyNjfl8Pv6RlOFMAYAMdTodxjh9AC5cuPDu3TuWZXd2dhYXF00mU8qKyYvg8Xju3r0rSCsNgEqlcjgcWq1WkCoXX2X0r4wkYgPyQAA4HI4XL14kigLvjfG3dIY4KpXK5/Ml3bOtu7vb7/cnBSPTJIL6KBOApqamWCz24MEDg8FgNpuHhoY6OzsFNc/WVxkAZKvolPnkZ0iIDcgDGcXX1NTEYrGk5jlPnjxxuVyJje/s7NzZ2RG89AbRvF5v4lUKISQjiaBcMQBUKpXdbv/48WMsFmMYZmRkpKSkBNLu7u6Ojo56PJ79/f2VlRX+Rb21tXVtbS0ajW5vbwtIzugO8PPPP29ubgqqihBqaWkJhUIulysYDPb19Xk8Hr/fbzAYIKbJZHK73fv7+4FAgP++bVVV1cuXL1mW3dvbm5mZOX78OMT3+XxkbgaBy5cvw6lwOHznzp2lpaVoNOp2u/kXe5KEPwVqbGzEGFut1q2tLZZlnU4n6UeNRjMzMxONRj99+tTf35/RbVBG/8pIIjYga2pq5N8BJiYmBO82g7JVVVXRaPS7776Dr/y/6+vrSTc9v3TpUiQS4W9/S1LJSELSQkAMgNLS0l9//dVisdTW1ra2tu7s7PT29kKS3d3dcDjc3t7e2Nj45s2bt2/fwvHGxsZoNNrb26vVan/44YdQKMS/bGcEQF9f397eXn19vaC2LS0tGGOz2Wy322OxWHNz82+//fb06VOEkEajCYVCz5490+v1//3vf1mW7e7uhuQul2t1dbW5ufncuXNbW1sOh4OfrdgdgGGYy5cvNzc3ezwep9PJT5K4BgAA5ubmysrKampqAoEAkWt8fJxhGIvFYjKZvF5vRgDI6N9Mk0gMyImJCZkAVFRUsCx74cIFvmoQHhsbIyOGf7a1tZVl2RMnTvAPQvjdu3cPHjxIPC4jSWImYgAIYtpstpcvX8LB3d3d8fFxCBsMBuKjkoxFODU6Osp3SpARAGq12uVyff361e12j42NNTY2Qp4tLS3hcBgh1NXVBT5v+vv7wR9CV1cXy7Lkumuz2WB/bDDQIVecjo4OjuP4VxMxAO7fvw+F3rx5c3t7G8LwVwwAck9wOBzT09MQmWVZ4rjt+vXr6QMgo39lJBEbkDCGZQIwPDxMvLPwhSsvL9/d3U1qL7+8vDwxMcGPDOHvv/8+Go0m9eYiI0li/hIA9Pf3e73eaDQKN30YZwih3d3dH3/8EbJSqVTxeBxaBJc3MkPAGH/48IGUmBEAkEqv1w8MDMzPz3McB5fzlpYWv9+PEOro6ABLI6vVCheU0W+zMlLcjRs3IpEIzJowxuTKAtXgL8DEAOjq6oLcOjo6ICuSuRgAp06dgjg2m+3Vq1cIoZMnT/KfF8H1gj9pJHkmBmT0b6ZJJAYkjGE5AGg0mp2dHf7dn7RtcHAw6dTWaDTGYrGamhoSkwQWFhaSOrSTkYTkyQ+IAXDlypUvX760t7fDNXVycpK430sEoK2tDSHk9XqJTxp+ERCWAQDJ5P79+wzDwGjOFACLxYIxJvP+9AEgj0E7Ojp2d3dJZRBCYgCQ65TNZpudnUUIVVdXY4zJI6z0AZDRvzKSiA1IMoblADAwMLC9vU2WjES4Y8eOBQIBcu0kxxFCL1++fPbsGf8IhJuamjiO46/ASBwZSUhafkAMgEePHvEnMEvfPpAwcQoEk3Wn0zk/P8/PnB+Ga6E8h949PT3kci4GwPXr1wVToLW1NYRQ4hTo69evhAeE0Orq6k8//cSvKkKI/xj0IAAghPb29sgUqKurK80pkIz+zTSJxIAkYzhjAEpLSxmGIQ3my3rjxg2GYRIfZdbX13Mcl3RkzHz78DOBsIwkiZnAkbGxMYZh+D63wYbTarX6/f6qqiqE0NWrVzmO498BIpEIWQSvrKxAVoDr2NiYXq83GAx3v3345TIMMzExcerUKWIozD/LD1ut1unp6R9++KGxsfHKlSsMw8zMzEjfARIXweRnk4WFBVgEnz17dmtrC7Iixc3MzLx586aqqkqtVpPLVhYBgEWw2Ww+c+bM+/fv0wFARv/KSCI2IPljOGMArl+/HgwGE/22l5SU+Hy+W7duEd1JYHp6GuaL5AgEamtrOY4jz/j4Z2Uk4Sfnh8fGxvizdowx7GikUqmmpqYCgQDDME6n88mTJ3wARkdHNzY2YrHYmzdv+DPa1tbW//u//4tGo5FIZGlpSfAYwGKx+Hy+eDxONgrg14QfbmpqevHihd/v39/fZxjGZrPBNVtiDYAQOnfu3OrqaiwWCwaD9+/fJ6O5urr61atX7LeP0+kU4FdfX//u3TtY6vAfgyadAiXKBfdJeAqUOAWCx1PwGJRhGHgMmtJaV0b/ZppEYkDyx3DGAGxsbCSdB//3v/8Nh8PkGQXpbPi5gMwRyXHwbcqfhJBTMpKQtDRQWAUsFsv+/r50HWT0r4wkYgMSIcQfw5kBUFVVNTo6yn/ERpra2dmZ9OGPyWQaGBgg0fiBwcFB/sMKckpGEpKWBvKvQGNjY0dHR2Vl5enTp5eWlgS/QiTWR0b/ykgiNiAFYzgzABIbQ49QBZqbmzc2NqLRaDAYnJ6e5q+/lS8OBUD5fURrmEMFKAA5FJdmrXwFKADK7yNawxwqQAHIobg0a+UrQAFQfh/RGuZQAZkAUA8xZE/cHHYOzTpBAeohJkGSvB+g/gHyLvk/BSplb1C6OS7dHPefUZnHEAUgj2KLFEXvACLC5ONwgQGgHmLANwn1EMO3SEYI5dqlDfUQ88/VpVAOV6iHmAlsEmIAABeISURBVAK6tKEeYv4BoOAhOgUqYBcUeApEWk4XwXQRTAZDPgNKASCfbaZlUQVyp4DMH8JyVyGaM1UgnwpQAPKpNi1LcQpQABTXJbRC+VSAApBPtWlZilOAAqC4LqEVyqcCFIB8qk3LUpwCMgHo7u6Gbcmy2CC/30+2O85itlnPqra2FmNcVlaW9ZxznaFyFOZvy5VRqx0OB9m3OKOEYpHzAQDDMPytqcTIUU73iIkFxzMFQK/Xz83N7e3tRSKRubm5pDvkSZeYrbPpK5x0P1151ZicnEx0FnG0AICNBN1u98LCgsFgSOpSCSGUfvfI64lspcoIgNOnT0cikYWFhfPnzxuNxlu3bpH92LJVn/TzSV9hCkADfMTElTEFWlpaEnhhQAgNDQ3t7OxEIpGhoaF0uqe/v//Dhw/Dw8OBQGBnZ4e42xBz9yLtcEWn07lcLpZlA4GAzWZL3NYuafMzAsButyfdL5XswNzZ2Tk/Px+NRnd2dmAP6tLS0kePHoVCIfBP09DQANWQ2JwwHA6PjIyAxzGBu5dMFZZwKgNbRidW+MWLF7/++itUsrKyEmMM213a7Xb+nR9jPDk5CdEk/NMk1ZwcLMopENQ+EYArV67s7+9fu3atoaHB5XKRPfJJaxMD/f39HMcNDQ2pVKqWlpZ4PA4zCjF3LxIOV9Rq9adPn6ampurr641Go9vtTrpLe2IdMgIgEAgk9YpAAPD5fB0dHeXl5U1NTc3NzQihu3fvhsPhtrY2vV7/6tUrn88H+w1LA7C9vV1bW6tWq1+/fk0uNDIUhvYmvQMAAIkVFgMAshKbAkn4p0nUnBw5VADMz8+TfYxhVKVcBPf397MsSzagZhjm+vXrRB0SIO5eJByu3Lx5E1ywQKqWlpZoNEpykAikD0BpaSnG+Pbt25Ab2BLA1rwEAOKmhZTo8/nIna2qqorjOLgzSAMwODgIOXR3dxN3LzIUhkwkAEissDwASD6J/mmIFImBQwXA1tYWf996vtOrxJbDkf7+fr7P083NTbIfdVJ3LxKbLU9NTQlu0BhjsvuxWAUQQukDoFKpMMZ9fX2QW2Nj49OnT8kzALigwuAmxZWWlnIcR/ZwhqURtFEagGvXrkEmfHcvMhSGTCQAEFQYISQPAAn/NESNxMChAuDDhw98z5CRSCSdOwDfK9Hm5iZcX8XcvUgDkHRv6kTRBUfSBwAhFAgEfvnlF5LDgwcPBACYzWZyFiEEAFy6dIkc9Pv9AEBDQwMf0SdPnoCPFglvFzIUhnIlABBUWAAAeAnhb3kvNgUiDwMS3XOQticGDhUALpeLTLsrKiri8bhsAMTcvUgA0NvbGwqF0lz48nsiIwCePXu2ublJNvJPCQBCaHt7WzAFgm23wRAHvHsghFwuV0oAZCgMLU3qVAZuWYkA2O12MpU1Go1kEQxZPXz4cHFxkS+gBLGCaIlfixIAsceg7e3t4XBYp9OVlJSMj49jjGUDIObuRQIAjUbDMMz8/LzJZKqvr79+/brdbk9UPPFIRgBotdrd3d3Z2VmLxWI0GldWVsC1I1kDJI6nwcFB/iKYYRjYg6ikpMTv94Mx7tmzZ6PRaEoAZCgM7U3qVEYMAKvVGgwGq6qqSktLnU6nAIAbN27s7Ozo9Xq1Wk0Wb/zfAQ7/HUDih7ChoaFQKLS9vf3LL7+k/xiUDEoyBRJz9yIBAEJIp9PNzs7u7e2xLLu+vi5wfE1KEQQyAgAh1NTUtLCwwLLsly9fFhcX4VGPBAAqlWpiYmJnZycWi719+5bvQuHixYsfP34MhUK///67w+FICQA8aM5IYWhsUqcyYgCo1Wqn07m7u+v1eq1WqwAAjUbz4sWL3d1dwWPQIzcFEgyj4v2aKQDF21IF1rwop0AK1PEgVaIAHES9A6alABxQwCwkpwBkQUS5WSgFAIPBkNRTqtx2/ZNOp9NNinzSeUj/T0Y5C504cWJ0dJSs53JWTq4yVr7CEi2/fPlya2urRIRMT8l8GzTTYmh8qoAyFaAAKLNfaK3ypAAFIE9C02KUqQAFQJn9QmuVJwVkAkA9xFAPMXkaof8uhnqI+bcehfhGN8cthOp/lamUvUHp5rh0c9yCYEABKIjs/yqU3gH+JUd+vxQYAOohhnqIAQWoh5jB9+/fN377kDfUJTyI1NbW6r99Tp8+zb9kiLl7AcOrjJJIlH7y5EnISrAliUSSxApTDzEScmVFYRgYSYcE9RDDp6bAYToFKmAHFHgKRFpOF8F0EUwGQz4DSgEgn22mZVEFcqeAzB/CclchmjNVIJ8KUADyqTYtS3EKUAAU1yW0QvlUgAKQT7VpWYpTgAKguC6hFcqnAhSAfKpNy1KcAjIBkLE9evpN1+v1ZNfO2traxISwQc3Zs2cTT+XhCDWKz4PIYkUoxSg+iwA8fPgwFovduXNH0GadTocxTgqASqVyOBxarVaQJD9fFQhAWVmZw+FgWTYcDttstnRsFcSSqNVqh8Ph9Xrj8XiaW+XlR3Yo5RAC8OHDh8nJybdv3wp0lABAEDPPXxUIgMPh8Pv9LS0tra2tkUhkbGwspSZiSTQazdOnT3t6ejweDwXgL98kiWpm6w6g1+tZlq2srIzFYoJdT8QAILOjxCnQrVu3fD5fLBbb3t4mm5IjhG7fvv3x48doNLq2tmaxWBKbk9ERpQFQXl4ei8WIn4Q7d+6Ew2HpXVvSSbKyskIByDkAP/3009zcHELo7du3N27c4A9EMQDIrpoCAAYGBliWvXHjhk6nu3DhwoMHDyC33t7ez58/t7W1abXavr6+L1++JJ1W8YuWDisNgO+++w5jTN7JPXfuHMa4vr5eohXpJKEA/OklTEzEbN0BVldX4VI9MjICJJASMwUgHA7fu3ePJCeBYDBInEcghFZWVpJGI/FTBpQGQEdHB8b4+PHjKysrv//+O+j23XffSTQknSQUgJwDUF1dHY/H4dJlNpuj0Sh/t/6MAKiursYYC+4JCKGqqioyZSIB4tFNYohInFIaAFeuXMEYV1ZWOhwOm80Gz9CkAUgnCQUg5wD09fVhjPf//mCMr1y5QkZeFgEwmUwk24MHlAYAzGeIrY/ZbE5zCiSdhAKQcwAWFxcdDgex1Zqbm3v+/DkZoOBsh3QSOS62BpCYAh1wzsMvOiMfYYKEOfoKK1qyghocHIxEIvxFcHl5eW1tLf/umjIJzBXpIjiHawDoA/4l32q1Ch5fMAwzMTFx6tSpiooK/uhJ+kMYLIK7u7u1Wq3FYhkZGYEkfX19sDjWarVms3lycvLChQv83DINK+0OgBByOByfP3+2WCytra3hcFjwGLS3txdjzHe8J52koaHBYDCsra29fPnSYDAU6veWpP1yeH4HuHr1ajwe549srVaLMT5//jxpucVi8fl88Xjc4/HAwbGxMTKVhwDf0d3t27fhMajP5+M/Bh0YGIDjfr/f6XQesEcVCAD5VWt3d3dqaop/+UcIJQVAIkkwGOSLvLS0RHqk4IHDA0DBpZRdAQUCILstRZeQAlD4LqMAFLAPKAAFFP+voikABewDpQCQOw8xBRQ3zaKL3UNMms1UZjTqIUaZ/UJrVawKyLQHKNbm0npTBf6tgEwAsvUu0L8rI/+bwWCA1wHkZ5F2SroGSFuq7EdUyhogpwDA3oPwKDoSiSwsLPC9pScV9YgDQB7qU4OYpMND4qAS7wAAQHd3t16vP3fu3NzcnN/vl7ZyOuIAiFm3SHS8WBJqEPPnK0DkI6ZgHu4A5IWF1tZWvm3kjz/+CD/rer1e8iYFANDX1/f582eWZR0OR+727lTaFCgd6xZBP6aThL4M9ycFAuHI17wBUFZWNj09HQgE4Od9o9H49evXgYGBurq64eFhjuPgbWoAwOPxNDc3WywWv99PDGJInbMVUBoA6Vi3CNqeThIKQIEBiMVi+/v7GGOGYZqbm6EL7Xb78vIy6c6NjY1Hjx4hhACA9vZ2OHX79u1QKESiZTegNADSsW4RKJBOEgpAgQGANYDZbH7+/Pn29nZ5eTm8ozs5OUm6c2Zm5tWrVwSA//znP3DqwoULGGNIQiJnK6A0ANKxbhG0PZ0kFIACA0DWACqVimVZq9UKAExMTJDulAagrKyMxMxiQGkAUIOYg3Sucp8CEQAQQpFI5O7duwih6elpwRRofHyc3AH4U6BgMHgQXSTSKg2AlNYt1CBGojeVCwBMgUwmk81m4zjuzJkzCCGTyRSPxwcGBnQ63fDw8NevX8FkDNYA6+vrZBE8Ojoq0eyDnFIaANLWLWL2ABI2NNQg5s/JD3zEBkoengKRH8LevXtHLu0IoZ6enu3t7VgstrW11dnZCTUEAPr7+/1+P8uyz549O3bsmFjlD3hcgQCQH8KoQUymnavEO0CmbchzfAUCkGcFCljckXgVooD6plM0BSAdlXIUhwKQI2EzyJYCkIFY2Y6qFACoQYzA8DzbHU3zS64ANYhJrgs9ShWQp4DMRbC8wmgqqoDSFJAJQE4fg2ZXI6vVmt0fxegaILsdlFFuSlkDZAUAviskeOrv8/kykiOdyEcBAPI7QPoGMSaT6Y8//mBZNhQK2Ww2/pJGp9PNzc2x3z7Ly8v8U+kIntM4hxCA7u5uw9+fpDuBHlDQowCAmHWLmHQnTpzY2dlxOBx1dXUWi2V7exteqkUInThxwu/3Ly4utre3m83mvr4+CkASGbN4BzCbzUkKQMjtdo+Ojj5+/DgcDrMsC682aLXa2dnZYDAYi8U2NjY6OjogbWNjI8bYarVubW2xLOt0OslesHwA2tvb9/b2Wltbk5aY5kGlTYHSsW4RNO2HH37AGJ84cQKO9/T0RCKRkpIShNDg4KDP51PUoOdX/hDeASQACIVCw8PDlZWVNTU1Fy9ehHeBhoeHjUZjbW1tb28vx3Fw0wAA5ubmysrKampqAoFAb28vCEcAyMroV+Du0OlYt/DHEELo0qVLGGNyjbh27RqxuVtYWHj69On//u//hkIhj8dDPC8JcijU10MIAH8f1v7+fqKs2+1O9JxHzkJgc3NzYGAAIQQAEAcZDodjenoa4gAAbW1tB7/2Q4ZKuwOkY90i0K26ujoajY6OjqpUqlOnTr179w5jDF4U3r9/v7e3Nz4+fubMmdu3b2OMD+5VTVD6Qb4eQgD4a4DKykqijtvtJhNTclCj0Tx+/JhhGI7jgJyff/6ZAHDq1CmIabPZwFAGIWS1WmOx2JcvX/b29g7oHQwyVxoA6Vi3EAFJoLOzMxQKcRzHsuzQ0BDG2Gg0IoQ2Nja2trZItJWVFYfDQb4WPHAIAZCYAg0NDQkUf/z4sdfrPXPmDGwS4fF4IA7cAYifSZvNNjs7C2kBAIvFsri4+Mcff8BMV5BtRl+VBoAMgxjS3urqao1G09LSgjGGy8ebN2/4ztocDsfr169J/IIHjjoAq6urg4OD0A0ajQauXuQOIAYA/A5QU1MTiURIctl9qTQAZBjECNr+7Nkz8gB6fHzc6/WSCMvLy/QOQNT4J5Cfp0CJd4CZmZn5+XmVSlVaWgqGMuncAcgPYV1dXbFYDGxr/mlMhiGlASDPIKanp+fSpUtnz5598OBBPB4njjSbmpo4jhsdHdXr9Tdv3ozH43zTvAylyn70o34HOHXq1MLCQjAY/Pjx4+joqNvtzggAhNCLFy+8Xu9Bdg1SIADkh7D0DWJu3brl9/tjsZjX6xU86rly5YrX693f3//w4QNxPZb9sSwrx0MFgCwFCp9IgQAUXpR81YACkC+lxcuhAIhrk/MzFICcS5yyAApASolyF0EpAFCDGMW+LJC7waeEnKlBjBJ6gdbh8Cgg0x7g8AhAW3K0FZAJQFZ+B8in8hcvXtzf389KiXQNkBUZ5WWilDVATgFwOp0Y466uLtDo3r17GGObzSZPMkjV1NRkt9sPkgNJq0AAyO8A6RvEiCVRq9UOh8Pr9cbj8WwpRqQ7eOCoAMAwjMvlAr3W19cZhjkgAAeXnuSgQAAyNYiBH4/9fn9LS0tra2skEhkbG4MGUg8xf++K+O0/6XVBINd3AOjRioqKuro6r9frcrkAADGDGISQWq3GGHd2ds7Pz0ej0Z2dnba2NoQQvOmFMT6sUyAZBjHpJKHbo/9JgGDck6+5BsBut09NTVmt1pGRkeHhYQKAyWRKahBDAPD5fB0dHeXl5U1NTcStBkLoEK8BZBjEpJOEAlBgAMxm8/LystfrraurIwAQAiFADGIIAPfv3xfEga+HGAAZBjHpJKEAFBgAhBDDMOvr6wghAoCYQQwBAKY9iQwcYgBkGMSkk4QCUHgAWltbv//+ez4AYgYxBAAx85pDDIAMg5h0klAACg8AuZCTO4CYQcxRBkCGQUzKJOCNij4GLeQimIx+/h1AzCDmKAMgzyCGeoiBAabEX4KdTqfg2kPuAGIGMRIAuN1u/sYTGOMDWkUq8HcA8qtW+gYxEkmCwSBfsaWlJf7FqLDhI/FDWGElTlm6AgFIWedDE4ECUPiupAAUsA8oAAUU/6+iKQAF7AOlAEANYqhBTEEwoAYxBZGdFnpoFZD5FOjQ6kEbdsQUkAlATl+GU3gX0DVAATtIKWuAXAMgeBSNMc6F7wx5HalAAMhDfWoQk2mfKvQOEAwGbTbb345j/vx/7NixTNuWo/gKBIAaxMjua+UCkLgxKELo8+fPVquVtHZoaGhjYwO+6nQ6l8vFsmwgELDZbMT7A4mcrYDSAEjHukXQ9nSS0JfhCvYyHEIoGAwmBWB8fJz/yzzZHl2tVn/69Glqaqq+vt5oNLrd7idPngh6PVtflQZAOtYtgrank4QCUGAA+K+jsCwLXWgymTiOAz8aWq0WY1xXV4cQunnzJt+tQ0tLSzQaFfR6tr4qDYB0rFsEbU8nCQWgwADw1wBNTU2kCz99+gRbFg8ODoK5DEJoamqKDwyEibsAkjYrAaUBkI51i6Dh6SShABQYgKRTIITQw4cPwWfJ+vr6vXv3oGunpqYWFhYE3Zyjr0oDIB3rFoEU6SShACgUgObmZo7jjEZjPB4nPr96e3tDoVDuFr78AaQ0AFJat5SXl9fW1vLFSZmEGsT8OfoLtSsELIL5UyCDwVBeXk5Goc/n29zcXF1dJUc0Gg3DMPPz8yaTqb6+/vr16wKLAhLz4AGlAUANYg7Sp8p9DCqY04OfYGjqgwcPMMZ37tzht1yn083Ozu7t7bEsu76+zve4yo928LACASA/hFGDmEz7V6EAZNqMfMZXIAD5bH5hyzoqr0IUVmXp0ikA0vrk9CwFIKfyppU5BSAtmXITSSkAUIMYahCTmxGeIldqEJNCIHqaKpCRAjIXwRmVQSNTBRSrAAVAsV1DK5YPBSgA+VCZlqFYBWQCoNVq29vbFduqnFZMo9FYrVaVSpXTUmjmSRUwm81GozHpKXkHZQLQ1dXldrvlFVnsqWpqajDGarW62BtSjPW32+3Em1NW6k8ByFhGCkDGkmUvAQUge1rKzYkCIFe5LKQrMAA9PT3ct8/Xr18xxhD2eDzQsuPHj8MRjuOGh4f5zV1bW4NTy8vL/OPt7e0kicVi4Z/KNIlE6RMTE6QUfhESSRJL12q1JBPSdo7jKioqIM/EJHBcrI0SpWelwtKlI4SKqMIOhwPEj3/7QPjx48f83pQXzmwKdOLEicZvn8HBwffv30NYp9NB2SUlJfq/P2C1SOpUW1sLZ06fPk0OIoTKysr+TqHnv7COEMo0iUTpJ0+eJKXwS5dIklh6aWkptPf8+fMY4+bmZvhKVsOJSaAssTZKlJ6VCkuXrkCFJSpcU1MDar98+dJut0O4urqa35vywpkBQMqgi2C6CCaDIZ+BAk+BSFMpABQAMhjyGVAKAPlsMy2LKpA7BWROgXJXIZozVSCfClAA8qk2LUtxClAAFNcltEL5VIACkE+1aVmKU4ACoLguoRXKpwIUgHyqTctSnAIUAMV1Ca1QPhWgAORTbVqW4hSgACiuS2iF8qkABSCfatOyFKcABUBxXUIrlE8FKAD5VJuWpTgFKACK6xJaoXwqQAHIp9q0LMUp8D//j36oAkdYgf8PQ3AcbbvVHA8AAAAASUVORK5CYII=)"
      ]
    },
    {
      "cell_type": "markdown",
      "metadata": {
        "id": "jRmLz57WemDu",
        "colab_type": "text"
      },
      "source": [
        "### 6.4 Zmiana ostatniego warstwy konwolucyjnej (Last Stride)"
      ]
    },
    {
      "cell_type": "markdown",
      "metadata": {
        "id": "hLpCXj367lbH",
        "colab_type": "text"
      },
      "source": [
        "Jedną z potrzeb jakie adresują wartwy konwolucyjne to agregacja wymiarów cech rozwiniętych przez poprzednie warstwy. Modyfikacja dotycząca tego punktu polega na ograniczeniu agregacji cech ostatniej warstwy i pozostawienia wiekszej reprezentacji cech głębokich sieci stanowiącej backbone trenowanego modelu. "
      ]
    },
    {
      "cell_type": "markdown",
      "metadata": {
        "id": "ZcrNO1Kvelw2",
        "colab_type": "text"
      },
      "source": [
        "### 6.5 BBNeck"
      ]
    },
    {
      "cell_type": "markdown",
      "metadata": {
        "id": "Hj20kTve7mn4",
        "colab_type": "text"
      },
      "source": [
        "Dużą część pracy jaką poświęcili twórcy framework-u użytego w tej pracy, stanowiła zmiana opisana jako BBNeck.\n",
        "\n",
        "<div align=\"center\">\n",
        "<img src=\"https://github.com/tomektarabasz/Praca_Dyplomowa_Tomasz_Tarabasz/blob/master/img/bnn-modify.png?raw=true\" alt=\"drawing\" width=\"400\"/>\n",
        "<br>\n",
        "Rys.9 Porównanie ostatnich warstw sieci w standardowym rozwiązaniu oraz BNNeck <a href=\"https://arxiv.org/pdf/1903.07071.pdf\">[6]</a>\n",
        "<br><br>\n",
        "</div>\n",
        "\n",
        "Jak zaprezentowano na załączonej ilustracji zaczerpniętej z pracy [[6]](https://arxiv.org/pdf/1903.07071.pdf) w przypadku a) będącym typowym podejściem ID loss i triplet loss działają na tym samej warstwie cech głębokich (embedding-ów). W takiej sytuacji lepiej sprawdza się przeliczenie dystansu cosinusowego czyli porównanie kierunków wyznaczonych przez wektory w przestrzeni embeddingów. Natomiast w przypadku b) wykorzystanie odległości euklidesowej w przestrzeni wektorów embeddingów sprzyja zagęszczaniu wyników wewnątrz klasową oraz zwiększanie odległości między zbiorami należacymi do innych klas. Ponieważ zagęszczanie wyników wewnątrz jednej klasy może zdecydowanie szybciej minimalizować funkcję strat triple loss, niż zwiększania odległości między klasowej wprowadzono kolejną warstwę cech głębokich. Kolejna warstwa jest znormalizowaną warstwą cech głębokich (embeddingów). Idea stojąca za takim krokiem polega na wymuszeniu stałej długości wektorów cech dla różnych klas. Zwiększa to znaczenie zwiększania odległości między różnymi klasami, co prowadzi do ograniczenia problemu minimalizacji międzyklasowej \"kosztem\" maksymalizacji odległości międzyklasowej. Idę bardzo dobrze ilustruje grafika zawarta w pracy [[6]](https://arxiv.org/pdf/1903.07071.pdf)\n",
        "\n",
        "<div align=\"center\">\n",
        "<br>\n",
        "<img src=\"https://github.com/tomektarabasz/Praca_Dyplomowa_Tomasz_Tarabasz/blob/master/img/bnn-modify-2.png?raw=true\" alt=\"drawing\" width=\"800\"/>\n",
        "<br>\n",
        "Rys.10 Ilustracja wpływu poszczególnych rozwiązań na rozmieszczenie obrazów w przestrzeni embedingów <a href=\"https://arxiv.org/pdf/1903.07071.pdf\">[6]</a>\n",
        "<br><br>\n",
        "</div>"
      ]
    },
    {
      "cell_type": "markdown",
      "metadata": {
        "id": "73nPWLDRfet6",
        "colab_type": "text"
      },
      "source": [
        "### 6.6 Center Loss"
      ]
    },
    {
      "cell_type": "markdown",
      "metadata": {
        "id": "rsKDtik9w1V5",
        "colab_type": "text"
      },
      "source": [
        "To rozwiązanie dodające do fukcji strat bezpośredni człon odpowidzialny za penalizowanie dużych rozbieżności w obrębie jednej klasy. Formuła na przeliczenie takiego członu zaprezentowano poniżej:\n",
        "\n",
        "<img src=\"https://github.com/tomektarabasz/Praca_Dyplomowa_Tomasz_Tarabasz/blob/master/img/center-loss.png?raw=true\" alt=\"drawing\" width=\"400\"/>\n",
        "\n",
        "W rezultacie funkcja strat posiada trzy człony zaprazentowane poniżej:\n",
        "\n",
        "<img src=\"https://github.com/tomektarabasz/Praca_Dyplomowa_Tomasz_Tarabasz/blob/master/img/loss-fun.png?raw=true\" alt=\"drawing\" width=\"400\"/>"
      ]
    },
    {
      "cell_type": "markdown",
      "metadata": {
        "id": "5b1XT0wuzC4q",
        "colab_type": "text"
      },
      "source": [
        "### 6.7 Podsumowanie"
      ]
    },
    {
      "cell_type": "markdown",
      "metadata": {
        "id": "s3QUD9rIzH-M",
        "colab_type": "text"
      },
      "source": [
        "W pracy [[6]](https://arxiv.org/pdf/1903.07071.pdf) zaprezentowano wyniki jakie dają użycie poszczególnych usprawnienień opisanych powyżej. To zestawienie wygląda jak poniżej:\n",
        "\n",
        "<div align=\"center\">\n",
        "<img src=\"https://github.com/tomektarabasz/Praca_Dyplomowa_Tomasz_Tarabasz/blob/master/img/trick-summarization.png?raw=true\" alt=\"drawing\" width=\"400\"/>\n",
        "<br>\n",
        "Rys.11 Tabela przedstawiająca poprawę wyników dla poszczególnych technik optymalizacji treningu użytych w <a href=\"https://arxiv.org/pdf/1903.07071.pdf\">[6]</a>\n",
        "<br><br>\n",
        "</div>\n",
        "\n",
        "Jest to unikatowa wartość jaką wprowadza praca [[6]](https://arxiv.org/pdf/1903.07071.pdf). Daję ona wiarygone informację jaką jakościową zmianę można spodziewać się z użycia każdego z usprawnień i zaplanowanie wiarygodnego porównania zmian wprowadzanych do modeli. "
      ]
    },
    {
      "cell_type": "markdown",
      "metadata": {
        "id": "y5nCEpYmZS8P",
        "colab_type": "text"
      },
      "source": [
        "## Nawigacja\n",
        "\n"
      ]
    },
    {
      "cell_type": "markdown",
      "metadata": {
        "colab_type": "text",
        "id": "BZLfh4L0ZU9_"
      },
      "source": [
        "<br>\n",
        "\n",
        "< [5. Modele](PD_modele.ipynb) | [7. Rozwiązanie Bazowe.](PD_rozw_bazowe.ipynb) >\n"
      ]
    }
  ]
}