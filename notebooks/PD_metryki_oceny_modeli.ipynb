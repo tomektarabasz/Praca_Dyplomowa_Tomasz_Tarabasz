{
  "nbformat": 4,
  "nbformat_minor": 0,
  "metadata": {
    "colab": {
      "name": "PD_metryki_oceny_modeli.ipynb",
      "provenance": [],
      "collapsed_sections": []
    },
    "kernelspec": {
      "name": "python3",
      "display_name": "Python 3"
    }
  },
  "cells": [
    {
      "cell_type": "markdown",
      "metadata": {
        "id": "2APrRHXAtumo",
        "colab_type": "text"
      },
      "source": [
        "[![Open In Colab](https://colab.research.google.com/assets/colab-badge.svg)](https://colab.research.google.com/drive/1MjzUke5SDxffqmpruiUzfdBLR6gKbCBM)"
      ]
    },
    {
      "cell_type": "markdown",
      "metadata": {
        "colab_type": "text",
        "id": "7VcYmp9qcq4T"
      },
      "source": [
        "<br>\n",
        "\n",
        "< [9. Trening zmodyfikowanych modeli](PD_tren_zmod_modeli.ipynb) | [11. Wnioski](PD_wnioski.ipynb) >\n"
      ]
    },
    {
      "cell_type": "markdown",
      "metadata": {
        "colab_type": "text",
        "id": "XmDswc76eMUv"
      },
      "source": [
        "<br>\n",
        "\n",
        "< [9. Trening zmodyfikowanych modeli](PD_tren_zmod_modeli.ipynb) | [11. Wnioski](PD_wnioski.ipynb) >\n"
      ]
    }
  ]
}