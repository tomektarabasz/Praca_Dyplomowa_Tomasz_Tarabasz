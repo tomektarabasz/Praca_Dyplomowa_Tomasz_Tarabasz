{
  "nbformat": 4,
  "nbformat_minor": 0,
  "metadata": {
    "colab": {
      "name": "PD_metryki_oceny_modeli.ipynb",
      "provenance": [],
      "collapsed_sections": []
    },
    "kernelspec": {
      "name": "python3",
      "display_name": "Python 3"
    }
  },
  "cells": [
    {
      "cell_type": "markdown",
      "metadata": {
        "id": "2APrRHXAtumo",
        "colab_type": "text"
      },
      "source": [
        "[![Open In Colab](https://colab.research.google.com/assets/colab-badge.svg)](https://colab.research.google.com/drive/1MjzUke5SDxffqmpruiUzfdBLR6gKbCBM)"
      ]
    },
    {
      "cell_type": "markdown",
      "metadata": {
        "colab_type": "text",
        "id": "7VcYmp9qcq4T"
      },
      "source": [
        "| [1. Spis treści](PD_spis_tresci.ipynb) |\n",
        "<br><br>\n",
        "\n",
        "< [9. Trening zmodyfikowanych modeli](PD_tren_zmod_modeli.ipynb) | [11. Wnioski](PD_wnioski.ipynb) >\n"
      ]
    },
    {
      "cell_type": "markdown",
      "metadata": {
        "colab_type": "text",
        "id": "XkUXwssMblxU"
      },
      "source": [
        "## [10. Metryki oceny modeli]()"
      ]
    },
    {
      "cell_type": "markdown",
      "metadata": {
        "id": "9KxAUtIheMO9",
        "colab_type": "text"
      },
      "source": [
        "Zdecydowano by oceniać modele pod względem dwóch podstawowych metryk:\n",
        "\n",
        "- Mean Avarage Precision (mAP)\n",
        "- Czas interferencji modelu "
      ]
    },
    {
      "cell_type": "markdown",
      "metadata": {
        "id": "7Fk2mqbElPDB",
        "colab_type": "text"
      },
      "source": [
        "### 10.1 Mean Avarage Precision (mAP)"
      ]
    },
    {
      "cell_type": "markdown",
      "metadata": {
        "id": "qpjLxofQevTM",
        "colab_type": "text"
      },
      "source": [
        "W celach porównawczych wytrenowanych modeli, zdecydowano o wykorzystania miary jaką jest Mean Avarage Preciosion (mAP). Daje ona wiarygodną informację o jakości modelu względem sieci bazowej. Jako sieć bazową przyjęto najlepszą sieć z podaną w publikacji [[6]](https://arxiv.org/pdf/1903.07071.pdf). Wyniki dla innych sieci testowanych przez autorów przytoczonego artykułu są również podane w artykule i odnoszą sie do tej włąsnie miary. Dzięki temu możliwe było odniesienie się uzyskanymi wynikami do wielu przykładów przebdanych w publikacji [[6]](https://arxiv.org/pdf/1903.07071.pdf) "
      ]
    },
    {
      "cell_type": "markdown",
      "metadata": {
        "id": "VPs1G5oflVaj",
        "colab_type": "text"
      },
      "source": [
        "### 10.2 Czas interferencji modelu"
      ]
    },
    {
      "cell_type": "markdown",
      "metadata": {
        "id": "tAHeHL03gcQ6",
        "colab_type": "text"
      },
      "source": [
        "Ponieważ jednym z celi jakie wyznaczono dla tej pracy było przetestowanie możliwości użycia tego typu rozwiązania do śledzenia postaci na nagraniach w czasie rzeczywistym, ważnym aspektem oprócz jego precyzji jest również czas przetwarzania.\n",
        "\n",
        "Czas przetwarzania przeliczono na podstawie własnego datasetu liczącego okolo 1200 obrazów. Podano wyniki dla testowanych sieci oraz zestawiono je tabelarycznie."
      ]
    },
    {
      "cell_type": "markdown",
      "metadata": {
        "id": "UymdF9Kklj5N",
        "colab_type": "text"
      },
      "source": [
        "## Nawigacja"
      ]
    },
    {
      "cell_type": "markdown",
      "metadata": {
        "colab_type": "text",
        "id": "XmDswc76eMUv"
      },
      "source": [
        "| [1. Spis treści](PD_spis_tresci.ipynb) |\n",
        "<br><br>\n",
        "\n",
        "< [9. Trening zmodyfikowanych modeli](PD_tren_zmod_modeli.ipynb) | [11. Wnioski](PD_wnioski.ipynb) >\n"
      ]
    }
  ]
}