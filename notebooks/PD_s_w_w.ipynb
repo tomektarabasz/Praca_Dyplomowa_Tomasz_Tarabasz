{
  "nbformat": 4,
  "nbformat_minor": 0,
  "metadata": {
    "colab": {
      "name": "PD_s_w_w.ipynb",
      "provenance": [],
      "collapsed_sections": []
    },
    "kernelspec": {
      "name": "python3",
      "display_name": "Python 3"
    }
  },
  "cells": [
    {
      "cell_type": "markdown",
      "metadata": {
        "id": "2APrRHXAtumo",
        "colab_type": "text"
      },
      "source": [
        "[![Open In Colab](https://colab.research.google.com/assets/colab-badge.svg)](https://colab.research.google.com/drive/1MjzUke5SDxffqmpruiUzfdBLR6gKbCBM)"
      ]
    },
    {
      "cell_type": "markdown",
      "metadata": {
        "id": "IpTaN2wARjNl",
        "colab_type": "text"
      },
      "source": [
        "<br>\n",
        "\n",
        "| [1. Spis treści](PD_spis_tresci.ipynb) | [1. Streszczenie, Wstęp, Wybór systemów do reidentyfikacji](PD_s_w_w.ipynb) >\n"
      ]
    },
    {
      "cell_type": "markdown",
      "metadata": {
        "id": "YQo84u2Gd5ZK",
        "colab_type": "text"
      },
      "source": [
        "## [1. Streszczenie](notebook/01_Streszczenie.*ipnb*)"
      ]
    },
    {
      "cell_type": "markdown",
      "metadata": {
        "id": "mg_BWd6QfN7-",
        "colab_type": "text"
      },
      "source": [
        "## [2. Wstęp]()"
      ]
    },
    {
      "cell_type": "markdown",
      "metadata": {
        "id": "hbv-u4UbwPk6",
        "colab_type": "text"
      },
      "source": [
        "###[2.1 Motywacja]()"
      ]
    },
    {
      "cell_type": "markdown",
      "metadata": {
        "id": "CZ_RrIJWwfDh",
        "colab_type": "text"
      },
      "source": [
        "Problem rozpoznawania osób i obiektów na różnych ujeciach z wielu kamer stał się w ostatnim czasie jednym z najczęściej badanych zagadnień. Potwierdza to cytac z pracy [[4] Torchreid: Library for Deep Learning Person Re_Identyfication in Pytoch](https://arxiv.org/pdf/1910.10093.pdf) \"Driven by the growing demands for intelligent surveillance and forensic applications, person re-identification (re-ID) has become a topical\n",
        "research area in computer vision.\" w wolnym tłumaczeniu \"Rozwiązanie umożliwiające identyfikację osób z różnych kamer oraz ujęć stało się jednym z najczęściej badanych zagadnień. Stało się tak za sprawą rosnącego zainteresowania służ wykorzstaniem aplikacyjnym takiego rozwiązania\". Na potwierdzenie tego wniosku przedstawiono wykres obrazujący ilość publikacji traktujących o tej tematyce na przestrzeni lat.\n",
        "<br><br>\n",
        "<img src=\"https://github.com/tomektarabasz/Praca_Dyplomowa_Tomasz_Tarabasz/blob/master/img/IloscPrac.jpg?raw=true\" alt=\"drawing\" width=\"400\"/>\n",
        "<br><br>\n",
        "\n",
        "Potencjał rozwiązania tego zagadnienia wykracza jednak poza użycie jakim są zainteresowane służby bezpieczeństwa. Jest zdecydowanie bardziej ogólnym problemem dającym możliwość przypisywania identyfikatora dla obiektów tej samej klasy. Uogólnia zatem temat detekcji oraz rozszerza dziedzinę jej rozwiązań o klasy pośrednie w stusunku do wykorzystanych w procesie uczenia. \n",
        "<br><br>\n",
        "\n",
        "Warto również zaznaczyć, że zgodnie z - [[6] reid-strong-baseline - pdf](https://arxiv.org/pdf/1903.07071.pdf) znaczący postęp w tej tematycie dokonał się właśnie dzięki GSN (głębokim siecią neuronowym). Odnosząć się do cytatu \"Person re-identification (ReID) with deep neural networks has made progress and achieved high performance\n",
        "in recent years. However, many state-of-the-arts methods\n",
        "design complex network structure and concatenate multibranch features. In the literature, some effective training\n",
        "tricks or refinements are briefly appeared in several papers\n",
        "or source codes\" należy zauważyć, że zgodnie z przytoczonym fragmentem rozwój w tej dziedzinie jest bardzo dynamiczny i istnieje przestrzeń na łaczenie wielu proponowanych rozwiązń."
      ]
    },
    {
      "cell_type": "markdown",
      "metadata": {
        "id": "zZhuT5xw1fVU",
        "colab_type": "text"
      },
      "source": [
        "### [2.2 Cel pracy]()"
      ]
    },
    {
      "cell_type": "markdown",
      "metadata": {
        "id": "8C3jIXQ_1lIm",
        "colab_type": "text"
      },
      "source": [
        "Dalsza cześć pracy wymaga sformułowania założeń. Te natomiast sprowadzją się do postawienia celi jakie adresować będzie ta praca. Zawierto je w dwóch punktach:\n",
        "\n",
        "*   Modyfikacja istniejącego rozwiązania z wytestowaniem nowewej dla frameworku architektury sieci.\n",
        "*   Wykorzystnie rozwiązani jako cześci systemu śledzenia obiektu na kolejnych ujęciach z nagrania.\n",
        "\n",
        "Założenia czynione w dalszej części pracy będą wynikały z powyższych punktów.\n",
        "<br><br>\n",
        "Pierwszy z nich odnosi sie do wykorzystania wybranego frameworku jako bazowego rozwiązania, będącego wstępem do modyfikacji. Porównania wyników jakie uzyskano oraz próbie modyfikacji modeli w celu poprawy wyników dla wyspecyfikowanego typu zagadnienia. Próby będą dotyczyły zmiany architektury sieci, trybów uczenia, zmiany funkcji aktywacji oraz modyfikacji optymalizowanej funkcji strat. Porównane zostaną frameworki <br>- [[1] reid-strong-baseline](https://github.com/michuanhaohao/reid-strong-baseline) <br> oraz <br> - [[4] Torchreid: Library for Deep Learning Person Re_Identyfication in Pytoch](https://arxiv.org/pdf/1910.10093.pdf)\n",
        "<br>\n",
        "Opisane zostaną powody dla, któych wybrano jeden z nich oraz sposób wykorzystania do finetuningu pretrenowanych sieci.\n",
        "<br><br>\n",
        "Drugie założenie specyfikuje problem. Nadaje kierunek w jakim ma podążać optymalizaja wyników oraz cech sieci. W tym dostosowanie sieci do pracy w trybie \"real time\" co wymusza skracanie czasu obliczeń i zmiejszanie sieci przy zachowaniu tego samego poziomu dokładności. Powody wybieranych rozwiązań upatrywać należy właśnie w spełnieniu tego założenia.\n",
        "\n"
      ]
    },
    {
      "cell_type": "markdown",
      "metadata": {
        "id": "4sBEk_sYeSx4",
        "colab_type": "text"
      },
      "source": [
        "Praca zawiera opis oraz definicję problemu reidentyfikacji obrazów. W dokumencie przedstawiono motywację do wyboru powszechnie wykorzystywanego systemu do testowania własnych rozwiązań problemu reidentyfikacji. Wykorzystanie narzędzia do wytestowania architektury EfficientNet oraz autorskich modyfikacji. W pracy przedstawiono przykład zastosowania systemu w połączeniu z systemem detekcji osób. Wypróbowano wykorzystać do śledzenia obiektów na własnym datasetach."
      ]
    },
    {
      "cell_type": "markdown",
      "metadata": {
        "id": "pxMJLXm63FqE",
        "colab_type": "text"
      },
      "source": [
        "## [3. Wybór systemów do reidentyfikacji]()"
      ]
    },
    {
      "cell_type": "markdown",
      "metadata": {
        "id": "1GNv_JsSLPzS",
        "colab_type": "text"
      },
      "source": [
        "W badaniach rozważano wykorzystanie dwóch powszechnie używanych framework-ów:\n",
        "- [[1] reid-strong-baseline](https://github.com/michuanhaohao/reid-strong-baseline) <br>\n",
        "Framework z szeroko opisanymi usprawnieniami w procesie trenowania. Zawiera szeroką gamę zbiarów danych oraz wynik zaprezentowanych przez twórców jest obecnie najlepszym opublikowanym wynikiem problemu reidentyfikacji.\n",
        "<br><br>\n",
        "- [[5] Torchreid: Library for Deep Learning Person Re_Identyfication in Pytoch](https://github.com/KaiyangZhou/deep-person-reid/tree/master/projects)\n",
        "<br> Jest to framework napisany z użyciem PyTorch i jest kompleksowym narzędziem do tworzenia i porównywania sieci stworzonych do reidentyfikacji sieci. Zawiera wiele baz danych.\n"
      ]
    },
    {
      "cell_type": "markdown",
      "metadata": {
        "id": "CN_JD0nWYKrW",
        "colab_type": "text"
      },
      "source": [
        "Ostatecznie zdecydowano o wykorzystaniu [[1] reif-strong-baseline](https://github.com/michuanhaohao/reid-strong-baseline). Argumentami przeważajacymi na wyborze tego systemu były:\n",
        "- dokładny opis wykorzystanych usprawnień w procesie trenowania.\n",
        "- duża elastyczność rozwiązania umożliwiająca znaczące modyfikacje. "
      ]
    },
    {
      "cell_type": "markdown",
      "metadata": {
        "id": "XvojCD6nC9Og",
        "colab_type": "text"
      },
      "source": [
        "Poniżej zaprezentowano wyniki jakie zawarto w repozytorium github framework-u reid-strong-baseline:\n",
        "\n",
        "<br><br>\n",
        "<img src=\"https://github.com/tomektarabasz/Praca_Dyplomowa_Tomasz_Tarabasz/blob/master/img/reid_statistic.png?raw=true\" alt=\"drawing\" width=\"400\"/>\n",
        "<br><br>\n",
        "\n",
        "Wskazują one na wyniki jakie otrzymano wykorzystując każdą z kolejnych modyfikacji treningów jakie opisane zostaną w punkcie [6](##6) tej pracy. Rozróżniono w niej wyniki wykonane na podstawie dwóch różnych datasetów:\n",
        "- Market1501\n",
        "- DukeMTMC-reID\n",
        "\n",
        "Pozwala to na estymację jak każda ze zmian w procesie trenowania może poprawić wyniki dla nowo trenowanej sieci.\n",
        "\n",
        "Zaprezentowano również wyniki w zależności od użytej sieci bazowej."
      ]
    },
    {
      "cell_type": "markdown",
      "metadata": {
        "id": "g7xYU1czW8Ri",
        "colab_type": "text"
      },
      "source": [
        "## Nawigacja"
      ]
    },
    {
      "cell_type": "markdown",
      "metadata": {
        "colab_type": "text",
        "id": "VHPtiZvnW-9A"
      },
      "source": [
        "<br>\n",
        "\n",
        "| [1. Spis treści](PD_spis_tresci.ipynb) | [1. Streszczenie, Wstęp, Wybór systemów do reidentyfikacji](PD_s_w_w.ipynb) >\n"
      ]
    }
  ]
}